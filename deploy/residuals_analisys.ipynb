{
 "cells": [
  {
   "cell_type": "code",
   "execution_count": 1,
   "metadata": {},
   "outputs": [],
   "source": [
    "import init\n",
    "\n",
    "from analisys.bkt_analisys import *\n",
    "from analisys.data_analisys import *\n",
    "from analisys.graph_analisys import *\n",
    "from analisys.optmizer_analisys import *\n",
    "\n",
    "\n",
    "import pandas as pd\n",
    "import seaborn as sns\n",
    "\n",
    "import random\n",
    "import os\n",
    "\n",
    "from backend.resampler import *\n",
    "from backend.mt5_tools import *\n",
    "\n",
    "from statsmodels.tsa.stattools import adfuller\n",
    "from analisys.graph_analisys import moving_avg\n",
    "\n",
    "from secrets import token_hex as token\n",
    "\n",
    "\n",
    "import plotly.graph_objects as go\n",
    "from plotly.subplots import make_subplots\n",
    "\n",
    "import plotly.io as pio\n",
    "pio.orca.config.use_xvfb = True\n"
   ]
  },
  {
   "cell_type": "code",
   "execution_count": 2,
   "metadata": {},
   "outputs": [
    {
     "data": {
      "image/png": "[encoded data removed]",
      "text/plain": [
       "<Figure size 432x288 with 1 Axes>"
      ]
     },
     "metadata": {
      "needs_background": "light"
     },
     "output_type": "display_data"
    }
   ],
   "source": [
    "#definindo parametros\n",
    "\n",
    "\n",
    "start_date = '2021.11.22'\n",
    "end_date = '2022.01.03'\n",
    "\n",
    "\n",
    "param = 'roiloss'\n",
    "csv_l = 'symbols_ibovf.csv'\n",
    "opt = 'forest'\n",
    "\n",
    "\n",
    "timeframe = 5 # timeframe = 5 minutos\n",
    "sample_size = 10 # quantidade de pares sendo negociados simultaneamente \n",
    "n_opt = 25 # parametro do optmizer 22\n",
    "lags = 20 # parametro do 'teste de cointegracao' 025\n",
    "p_size = 3000 # tamanho da posicao\n",
    "\n",
    "d_train = 30 # numero de dias sendo 'treinados'.\n",
    "d_test = 5 # numero de dias sendo 'testados'.\n",
    "\n",
    "ibov = pd.DataFrame(mt5_singlehistoricaldata('IBOV', 5, start_date, end_date, forex=False, SERVER='tcp://192.168.0.29:10000')).iloc[::-1]\n",
    "period = [100,250]\n",
    "stop_n = [20,100]\n",
    "stop_r = [-300, 0]\n",
    "s_spread = [1, 5]\n",
    "l_spread = [-5, -1]\n",
    "tp_s =[-1, 0]\n",
    "tp_l =[0, 1]\n",
    "tp_r =[700, 3000]\n",
    "c_min=[100, 300]\n",
    "\n",
    "plt.plot(ibov['close'])\n",
    "\n",
    "space_param = [(period[0], period[1]),\n",
    "                (s_spread[0], s_spread[1]),\n",
    "                (l_spread[0], l_spread[1]),\n",
    "                (tp_s[0], tp_s[1]),\n",
    "                (tp_l[0], tp_l[1]),\n",
    "                (tp_r[0], tp_r[1]),\n",
    "                (stop_n[0], stop_n[1]),\n",
    "                (stop_r[0], stop_r[1]),\n",
    "                (c_min[0], c_min[1])]"
   ]
  },
  {
   "cell_type": "code",
   "execution_count": 3,
   "metadata": {},
   "outputs": [
    {
     "name": "stdout",
     "output_type": "stream",
     "text": [
      "29 ['2021.11.22 00:00', '2021.11.23 00:00', '2021.11.24 00:00', '2021.11.25 00:00', '2021.11.26 00:00', '2021.11.29 00:00', '2021.11.30 00:00', '2021.12.01 00:00', '2021.12.02 00:00', '2021.12.03 00:00', '2021.12.06 00:00', '2021.12.07 00:00', '2021.12.08 00:00', '2021.12.09 00:00', '2021.12.10 00:00', '2021.12.13 00:00', '2021.12.14 00:00', '2021.12.15 00:00', '2021.12.16 00:00', '2021.12.17 00:00', '2021.12.20 00:00', '2021.12.21 00:00', '2021.12.22 00:00', '2021.12.23 00:00', '2021.12.27 00:00', '2021.12.28 00:00', '2021.12.29 00:00', '2021.12.30 00:00', '2022.01.03 00:00']\n",
      "2021.11.24 00:00\n"
     ]
    }
   ],
   "source": [
    "def get_days(start_date, end_date, d_train, d_test):\n",
    "\n",
    "    ibov = mt5_singlehistoricaldata('IBOV', 16408, start_date, end_date, SERVER='tcp://192.168.0.29:10000')\n",
    "    ibov_date = list(ibov['date'])\n",
    "    ibov_date.reverse()\n",
    "\n",
    "    date_iteration = []\n",
    "\n",
    "    for d in range(len(ibov_date))[:-(d_train+d_test)]:\n",
    "\n",
    "        train_startdate = ibov_date[d].split(' ')[0]\n",
    "        train_enddate = ibov_date[d+d_train].split(' ')[0]\n",
    "        test_startdate = ibov_date[d+d_train].split(' ')[0]\n",
    "        test_enddate = ibov_date[d+d_test+d_train].split(' ')[0]\n",
    "\n",
    "        date_iteration.append(tuple([train_startdate, train_enddate,\n",
    "                                    test_startdate, test_enddate]))\n",
    "\n",
    "    #real_startdate = date_iteration[0][2]\n",
    "    #real_enddate = date_iteration[-1][-2]\n",
    "\n",
    "    return date_iteration, ibov_date\n",
    "\n",
    "def cointpair_selection(df, dataframe, lags):\n",
    "\n",
    "    co_list = []\n",
    "    \n",
    "\n",
    "    co = h_coint(hist, dataframe, n_lags=lags)\n",
    "    co = pd.DataFrame(co)\n",
    "    co = co.sort_values(by=['pvalue'])\n",
    "    co = co.reset_index(drop=True)\n",
    "\n",
    "    new_co = pd.DataFrame({'pvalue':pd.Series([]), 'stdx':pd.Series([]), \n",
    "                                'stdy':pd.Series([]), 'x':pd.Series([]), 'y':pd.Series([])})\n",
    "\n",
    "\n",
    "    if(len(co) == 0):\n",
    "        return new_co\n",
    "\n",
    "    co_len = [i for i in range(len(co))]\n",
    "    \n",
    "    for j in co_len:\n",
    "\n",
    "        x,y = list(co['x'])[j], list(co['y'])[j]\n",
    "\n",
    "        if not((x in list(new_co['x'])) or (x in list(new_co['y'])) \n",
    "               or (y in list(new_co['x'])) or (y in list(new_co['y']))):\n",
    "                \n",
    "            new_co = new_co.append(co.iloc()[j])\n",
    "\n",
    "        new_co = new_co.reset_index(drop=True)\n",
    "    \n",
    "\n",
    "\n",
    "    return co\n",
    "\n",
    "d = get_days(start_date, end_date, d_train, d_test)\n",
    "len(d[1])\n",
    "print(len(d[1]), d[1])\n",
    "print(d[1][2])"
   ]
  },
  {
   "cell_type": "code",
   "execution_count": 4,
   "metadata": {},
   "outputs": [],
   "source": [
    "#real_startdate = start_date\n",
    "#train_enddate = end_date\n",
    "hist = mt5_historicaldata_s(timeframe, start_date, end_date, csv_list = 'symbols_ibovf.csv', interpol=False, bolsa='IBOV')\n",
    "\n",
    "#real_startdate = '2021.05.10'\n",
    "#real_enddate = '2021.05.15'\n",
    "\n",
    "#hist_test = mt5_historicaldata_s(timeframe, real_startdate, real_enddate, csv_list = 'symbols_ibovf.csv', interpol=False, bolsa='IBOV')\n"
   ]
  },
  {
   "cell_type": "code",
   "execution_count": 5,
   "metadata": {},
   "outputs": [
    {
     "ename": "AttributeError",
     "evalue": "'dict' object has no attribute 'empty'",
     "output_type": "error",
     "traceback": [
      "\u001b[0;31m---------------------------------------------------------------------------\u001b[0m",
      "\u001b[0;31mAttributeError\u001b[0m                            Traceback (most recent call last)",
      "\u001b[0;32m<ipython-input-5-1e440b852519>\u001b[0m in \u001b[0;36m<module>\u001b[0;34m\u001b[0m\n\u001b[0;32m----> 1\u001b[0;31m \u001b[0mco_hist\u001b[0m \u001b[0;34m=\u001b[0m \u001b[0mcointpair_selection\u001b[0m\u001b[0;34m(\u001b[0m\u001b[0mhist\u001b[0m\u001b[0;34m,\u001b[0m \u001b[0mtimeframe\u001b[0m\u001b[0;34m,\u001b[0m \u001b[0mlags\u001b[0m\u001b[0;34m)\u001b[0m\u001b[0;34m\u001b[0m\u001b[0;34m\u001b[0m\u001b[0m\n\u001b[0m\u001b[1;32m      2\u001b[0m \u001b[0mco_hist\u001b[0m\u001b[0;34m\u001b[0m\u001b[0;34m\u001b[0m\u001b[0m\n",
      "\u001b[0;32m<ipython-input-3-4b8030b5ebe6>\u001b[0m in \u001b[0;36mcointpair_selection\u001b[0;34m(df, dataframe, lags)\u001b[0m\n\u001b[1;32m     27\u001b[0m \u001b[0;34m\u001b[0m\u001b[0m\n\u001b[1;32m     28\u001b[0m \u001b[0;34m\u001b[0m\u001b[0m\n\u001b[0;32m---> 29\u001b[0;31m     \u001b[0mco\u001b[0m \u001b[0;34m=\u001b[0m \u001b[0mh_coint\u001b[0m\u001b[0;34m(\u001b[0m\u001b[0mhist\u001b[0m\u001b[0;34m,\u001b[0m \u001b[0mdataframe\u001b[0m\u001b[0;34m,\u001b[0m \u001b[0mn_lags\u001b[0m\u001b[0;34m=\u001b[0m\u001b[0mlags\u001b[0m\u001b[0;34m)\u001b[0m\u001b[0;34m\u001b[0m\u001b[0;34m\u001b[0m\u001b[0m\n\u001b[0m\u001b[1;32m     30\u001b[0m     \u001b[0mco\u001b[0m \u001b[0;34m=\u001b[0m \u001b[0mpd\u001b[0m\u001b[0;34m.\u001b[0m\u001b[0mDataFrame\u001b[0m\u001b[0;34m(\u001b[0m\u001b[0mco\u001b[0m\u001b[0;34m)\u001b[0m\u001b[0;34m\u001b[0m\u001b[0;34m\u001b[0m\u001b[0m\n\u001b[1;32m     31\u001b[0m     \u001b[0mco\u001b[0m \u001b[0;34m=\u001b[0m \u001b[0mco\u001b[0m\u001b[0;34m.\u001b[0m\u001b[0msort_values\u001b[0m\u001b[0;34m(\u001b[0m\u001b[0mby\u001b[0m\u001b[0;34m=\u001b[0m\u001b[0;34m[\u001b[0m\u001b[0;34m'pvalue'\u001b[0m\u001b[0;34m]\u001b[0m\u001b[0;34m)\u001b[0m\u001b[0;34m\u001b[0m\u001b[0;34m\u001b[0m\u001b[0m\n",
      "\u001b[0;32m~/Documents/Github/14bis_2.0/backend/coint.py\u001b[0m in \u001b[0;36m__new__\u001b[0;34m(self, df, tf, threshold, column, save, n_lags)\u001b[0m\n\u001b[1;32m     31\u001b[0m \u001b[0;34m\u001b[0m\u001b[0m\n\u001b[1;32m     32\u001b[0m         \u001b[0;32mfor\u001b[0m \u001b[0mi\u001b[0m \u001b[0;32min\u001b[0m \u001b[0mdf\u001b[0m\u001b[0;34m.\u001b[0m\u001b[0mkeys\u001b[0m\u001b[0;34m(\u001b[0m\u001b[0;34m)\u001b[0m\u001b[0;34m:\u001b[0m\u001b[0;34m\u001b[0m\u001b[0;34m\u001b[0m\u001b[0m\n\u001b[0;32m---> 33\u001b[0;31m             \u001b[0;32mif\u001b[0m \u001b[0;32mnot\u001b[0m \u001b[0;34m(\u001b[0m\u001b[0mdf\u001b[0m\u001b[0;34m[\u001b[0m\u001b[0mi\u001b[0m\u001b[0;34m]\u001b[0m\u001b[0;34m.\u001b[0m\u001b[0mempty\u001b[0m\u001b[0;34m)\u001b[0m\u001b[0;34m:\u001b[0m\u001b[0;34m\u001b[0m\u001b[0;34m\u001b[0m\u001b[0m\n\u001b[0m\u001b[1;32m     34\u001b[0m                 \u001b[0msymbol_list\u001b[0m\u001b[0;34m.\u001b[0m\u001b[0mappend\u001b[0m\u001b[0;34m(\u001b[0m\u001b[0mi\u001b[0m\u001b[0;34m)\u001b[0m\u001b[0;34m\u001b[0m\u001b[0;34m\u001b[0m\u001b[0m\n\u001b[1;32m     35\u001b[0m \u001b[0;34m\u001b[0m\u001b[0m\n",
      "\u001b[0;31mAttributeError\u001b[0m: 'dict' object has no attribute 'empty'"
     ]
    }
   ],
   "source": [
    "co_hist = cointpair_selection(hist, timeframe, lags)\n",
    "co_hist"
   ]
  },
  {
   "cell_type": "code",
   "execution_count": null,
   "metadata": {},
   "outputs": [],
   "source": [
    "from sklearn.linear_model import Ridge\n",
    "from sklearn.model_selection import train_test_split\n",
    "\n",
    "from yellowbrick.datasets import load_concrete\n",
    "from yellowbrick.regressor import ResidualsPlot\n",
    "\n",
    "def score(df_treino, name_x, name_y):\n",
    "\n",
    "    x = np.array(df_treino[name_x]['close']).reshape(-1, 1)\n",
    "    y = np.array(df_treino[name_y]['close'])\n",
    "\n",
    "    x_train, x_test, y_train, y_test = train_test_split(x, y, test_size=0.2, random_state=42)\n",
    "\n",
    "    model = Ridge()\n",
    "    visualizer = ResidualsPlot(model)\n",
    "    visualizer.fit(x_train, y_train)  # Fit the training data to the visualizer\n",
    "    s_ = (visualizer.score(x_test, y_test))  # Evaluate the model on the test data\n",
    "    #visualizer.show()                 # Finalize and render the figure\n",
    "\n",
    "    return s_\n",
    "\n",
    "def simplebkt(symbol_x,\n",
    "                symbol_y,\n",
    "                name_x,\n",
    "                name_y,\n",
    "                _period,\n",
    "                s_spread,\n",
    "                l_spread,\n",
    "                tp_s,\n",
    "                tp_l,\n",
    "                tp_r,\n",
    "                stop_n,\n",
    "                stop_r,\n",
    "                optimizer='Forest'):\n",
    "\n",
    "    #fname = '{}x{}x{}{}{}.json'.format(name_x, name_y, datetime.datetime.now().hour, datetime.datetime.now().minute, datetime.datetime.now().second)\n",
    "\n",
    "    dic = runbkt(symbol_x, symbol_y, name_x, name_y, _period,s_spread, l_spread, tp_s, tp_l, tp_r, stop_n, stop_r, pos_size)\n",
    "    if(optimizer == 'profit'):\n",
    "        return dic['profit']\n",
    "    if(optimizer == 'ppp'):\n",
    "        return dic['profit_per_position']\n",
    "    if(optimizer == 'sr'):\n",
    "        return dic['sucess_ratio']\n",
    "    if(optimizer == 'pl'):\n",
    "        return dic['average_profit_loss']\n",
    "    if(optimizer == 'roi'):\n",
    "        return dic['roi']*abs(dic['profit'])\n",
    "    if(optimizer == 'dic'):\n",
    "        return dic\n",
    "    \n",
    "\n",
    "def treino(args):\n",
    "\n",
    "    _p, shortspread, longspread, takeprofitshort, takeprofitlong, takeprofitreturn, stopnumber, stopreturn = args\n",
    "    r = simplebkt(df_treino[name_x], df_treino[name_y], name_x, name_y, _p, shortspread, longspread, takeprofitshort, takeprofitlong, takeprofitreturn, stopnumber, stopreturn, optimizer='roi')\n",
    "    return -r\n",
    "\n",
    "def results(forest, n):\n",
    "    columns_value = ['period', 's_spread', 'l_spread', 'tp_short', 'tp_long',                                                              'tp_return', 'n', 'stop']\n",
    "    \n",
    "    x_iters = np.array(forest['x_iters'])\n",
    "\n",
    "    df = pd.DataFrame(data = x_iters, columns=columns_value)\n",
    "    \n",
    "    df['profit'] = -forest['func_vals']\n",
    "    df = df.sort_values(['profit'], ascending=False)\n",
    "    df_np = np.array(df.drop(columns=['profit']))\n",
    "    df = df.reset_index().drop(columns='index')\n",
    "\n",
    "    return df[:n], df_np[:n]"
   ]
  },
  {
   "cell_type": "code",
   "execution_count": null,
   "metadata": {},
   "outputs": [],
   "source": [
    "df_treino = hist\n",
    "#df_test = \n",
    "pos_size = 100\n",
    "opt_param = 'dic'"
   ]
  },
  {
   "cell_type": "code",
   "execution_count": null,
   "metadata": {
    "scrolled": true
   },
   "outputs": [
    {
     "ename": "NameError",
     "evalue": "name 'co_hist' is not defined",
     "output_type": "error",
     "traceback": [
      "\u001b[0;31m---------------------------------------------------------------------------\u001b[0m",
      "\u001b[0;31mNameError\u001b[0m                                 Traceback (most recent call last)",
      "\u001b[0;32m<ipython-input-11-595ae30fc278>\u001b[0m in \u001b[0;36m<module>\u001b[0;34m\u001b[0m\n\u001b[1;32m      1\u001b[0m \u001b[0mresultados\u001b[0m \u001b[0;34m=\u001b[0m \u001b[0;34m{\u001b[0m\u001b[0;34m'std_train'\u001b[0m\u001b[0;34m:\u001b[0m\u001b[0;34m[\u001b[0m\u001b[0;34m]\u001b[0m\u001b[0;34m,\u001b[0m \u001b[0;34m'profit_train'\u001b[0m\u001b[0;34m:\u001b[0m\u001b[0;34m[\u001b[0m\u001b[0;34m]\u001b[0m\u001b[0;34m,\u001b[0m \u001b[0;34m'profit_test'\u001b[0m\u001b[0;34m:\u001b[0m\u001b[0;34m[\u001b[0m\u001b[0;34m]\u001b[0m\u001b[0;34m,\u001b[0m \u001b[0;34m'residuals'\u001b[0m\u001b[0;34m:\u001b[0m\u001b[0;34m[\u001b[0m\u001b[0;34m]\u001b[0m\u001b[0;34m}\u001b[0m\u001b[0;34m\u001b[0m\u001b[0;34m\u001b[0m\u001b[0m\n\u001b[1;32m      2\u001b[0m \u001b[0;34m\u001b[0m\u001b[0m\n\u001b[0;32m----> 3\u001b[0;31m \u001b[0mx_sec\u001b[0m \u001b[0;34m=\u001b[0m \u001b[0mlist\u001b[0m\u001b[0;34m(\u001b[0m\u001b[0mco_hist\u001b[0m\u001b[0;34m[\u001b[0m\u001b[0;34m'x'\u001b[0m\u001b[0;34m]\u001b[0m\u001b[0;34m)\u001b[0m\u001b[0;34m\u001b[0m\u001b[0;34m\u001b[0m\u001b[0m\n\u001b[0m\u001b[1;32m      4\u001b[0m \u001b[0my_sec\u001b[0m \u001b[0;34m=\u001b[0m \u001b[0mlist\u001b[0m\u001b[0;34m(\u001b[0m\u001b[0mco_hist\u001b[0m\u001b[0;34m[\u001b[0m\u001b[0;34m'y'\u001b[0m\u001b[0;34m]\u001b[0m\u001b[0;34m)\u001b[0m\u001b[0;34m\u001b[0m\u001b[0;34m\u001b[0m\u001b[0m\n\u001b[1;32m      5\u001b[0m \u001b[0;34m\u001b[0m\u001b[0m\n",
      "\u001b[0;31mNameError\u001b[0m: name 'co_hist' is not defined"
     ]
    }
   ],
   "source": [
    "resultados = {'std_train':[], 'profit_train':[], 'profit_test':[], 'residuals':[]}\n",
    "\n",
    "x_sec = list(co_hist['x'])\n",
    "y_sec = list(co_hist['y'])\n",
    "\n",
    "\n",
    "for i in range(len(x_sec)):\n",
    "    print(i)\n",
    "\n",
    "    name_x = x_sec[i]\n",
    "    name_y = y_sec[i]\n",
    "\n",
    "    forest = forest_minimize(treino, space_param, random_state=1, verbose=0, n_calls = n_opt)\n",
    "\n",
    "    param = forest['x'] \n",
    "\n",
    "    train = simplebkt(df_test[name_x], df_test[name_y], name_x, name_y, param[0], param[1], param[2], param[3], param[4], param[5], param[6], param[7], optimizer=opt_param)\n",
    "\n",
    "    test = simplebkt(df_test[name_x], df_test[name_y], name_x, name_y, param[0], param[1], param[2], param[3], param[4], param[5], param[6], param[7], optimizer=opt_param)\n",
    "\n",
    "    _profit_train = sum(train['returns'])\n",
    "    _profit_test = sum(test['returns'])\n",
    "    _std_train = np.std(train['returns'])\n",
    "\n",
    "    _score = score(df_treino, name_x, name_y)\n",
    "\n",
    "    resultados['profit_train'].append(_profit_train)\n",
    "    resultados['profit_test'].append(_profit_test)\n",
    "    resultados['residuals'].append(_score)\n",
    "    resultados['std_train'].append(_std_train)\n",
    "\n",
    "\n",
    "\n",
    "print(resultados)\n",
    "\n",
    "\n",
    "    \n",
    "\n"
   ]
  },
  {
   "cell_type": "code",
   "execution_count": null,
   "metadata": {},
   "outputs": [],
   "source": [
    "pd.DataFrame(resultados).to_excel('res.xls')"
   ]
  },
  {
   "cell_type": "code",
   "execution_count": null,
   "metadata": {},
   "outputs": [],
   "source": [
    "res = pd.read_excel('res.xls', index_col=0)\n",
    "res"
   ]
  },
  {
   "cell_type": "code",
   "execution_count": null,
   "metadata": {},
   "outputs": [],
   "source": [
    "plt.scatter(x=res['profit_test'], y=res['residuals'])\n"
   ]
  },
  {
   "cell_type": "code",
   "execution_count": null,
   "metadata": {},
   "outputs": [],
   "source": [
    "plt.matshow((res['std_train'], res['residuals']))"
   ]
  },
  {
   "cell_type": "code",
   "execution_count": null,
   "metadata": {},
   "outputs": [],
   "source": []
  }
 ],
 "metadata": {
  "interpreter": {
   "hash": "1bf0c4fcc178e7a72aa4c670c93393f0789e15e0a2410701bc452393cfe84a07"
  },
  "kernelspec": {
   "display_name": "Python 3.8.5 64-bit ('base': conda)",
   "language": "python",
   "name": "python3"
  },
  "language_info": {
   "codemirror_mode": {
    "name": "ipython",
    "version": 3
   },
   "file_extension": ".py",
   "mimetype": "text/x-python",
   "name": "python",
   "nbconvert_exporter": "python",
   "pygments_lexer": "ipython3",
   "version": "3.7.6"
  }
 },
 "nbformat": 4,
 "nbformat_minor": 4
}
