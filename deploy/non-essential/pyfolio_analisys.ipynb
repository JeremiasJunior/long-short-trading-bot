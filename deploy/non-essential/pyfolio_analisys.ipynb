{
 "cells": [
  {
   "cell_type": "code",
   "execution_count": 1,
   "metadata": {},
   "outputs": [
    {
     "output_type": "stream",
     "name": "stderr",
     "text": [
      "/home/tars/anaconda3/lib/python3.8/site-packages/pyfolio/pos.py:26: UserWarning: Module \"zipline.assets\" not found; mutltipliers will not be applied to position notionals.\n  warnings.warn(\n"
     ]
    },
    {
     "output_type": "execute_result",
     "data": {
      "text/plain": [
       "['strategies',\n",
       " 'workspace.code-workspace',\n",
       " '.ipynb_checkpoints',\n",
       " 'notebook',\n",
       " 'JBSS3xIRBR3_bbb4a531.json',\n",
       " 'strategy.py',\n",
       " 'test',\n",
       " 'CYRE3xVVAR3_d522209e.json',\n",
       " 'NTCO3xSUZB3_2c5803f3.json',\n",
       " 'PRIO3xTOTS3_32aa4861.json',\n",
       " 'forest[(10, 150), (0, 5), (-5, 0), (-1, 0), (0, 1), (700, 3000), (25, 50), (-300, 0)]44b4_t5504522roiloss1000305_2018.11.15x2021.05.31.xls',\n",
       " 'may30.xls',\n",
       " 'BPAC11xRADL3_19cbdaea.json',\n",
       " 'GNDI3xHAPV3_72bdce18.json',\n",
       " 'symbols_usaiss.csv',\n",
       " 'BRFS3xCMIG4_27f121bb.json',\n",
       " 'fourteenbis_livefx.py',\n",
       " '8_jun',\n",
       " 'GGBR4xGOAU4_986e7791.json',\n",
       " 'symbols.csv',\n",
       " 'EQTL3xGOLL4_ed52d60f.json',\n",
       " 'RAIL3xEMBR3_5f41e622.json',\n",
       " 'fourteenbis_live.py',\n",
       " 'BBSE3xABEV3_bf99b943.json',\n",
       " 'SBSP3xWEGE3_7fd85544.json',\n",
       " 'symbols_ibovcnc.csv',\n",
       " 'backend',\n",
       " 'icmarkets',\n",
       " 'BTOW3xUGPA3_7d5a7e55.json',\n",
       " 'BRDT3xPETR4_21e4777c.json',\n",
       " 'B3SA3xVALE3_7ef98f63.json',\n",
       " 'symbols_commodity.csv',\n",
       " 'KLBN11xELET3_4d7a22b8.json',\n",
       " 'analisys',\n",
       " 'forest[(10, 150), (0, 5), (-5, 0), (-1, 0), (0, 1), (700, 3000), (25, 50), (-300, 0)]44b4_l5504522roiloss1000305_2018.11.15x2021.05.31.xls',\n",
       " 'symbols_nyse.csv',\n",
       " 'MRFG3xUSIM5_bc60e8b3.json',\n",
       " 'mql5',\n",
       " 'symbols_smll.csv',\n",
       " '.git',\n",
       " 'symbols_ibovcc.csv',\n",
       " 'contability_202168_6cc8.json',\n",
       " 'symbols_ibov.csv',\n",
       " '__pycache__',\n",
       " 'symbols_ibovf.csv',\n",
       " 'contability_202168_8f96.json',\n",
       " 'BRML3xLREN3_47b576e9.json',\n",
       " 'contability_202168_9d8c.json',\n",
       " 'backup',\n",
       " '.vscode',\n",
       " 'deploy.py',\n",
       " 'ITUB4xITSA4_ab7cd8eb.json',\n",
       " 'pares0706.txt',\n",
       " 'init.py',\n",
       " 'symbols_fx.csv',\n",
       " '7jun',\n",
       " 'COGN3xCIEL3_380c443c.json',\n",
       " 'README.md',\n",
       " 'symbols_crypt.csv',\n",
       " 'run_14bis.py',\n",
       " 'LAME4xMGLU3_7ed747df.json',\n",
       " 'contability_202168_2eff.json',\n",
       " 'symbols_fiis.csv',\n",
       " 'AZUL4xBBAS3_3c08efc9.json',\n",
       " 'results',\n",
       " 'CSAN3xPETR3_231fed64.json']"
      ]
     },
     "metadata": {},
     "execution_count": 1
    }
   ],
   "source": [
    "import init\n",
    "\n",
    "#from analisys.bkt_analisys import *\n",
    "#from analisys.data_analisys import *\n",
    "#from analisys.graph_analisys import *\n",
    "#from analisys.optmizer_analisys import *\n",
    "'''\n",
    "fazer relatorio ano a ano com diferentes tipos de alavancagem. \n",
    "\n",
    "'''\n",
    "\n",
    "import pandas as pd\n",
    "import seaborn as sb\n",
    "import random\n",
    "import os\n",
    "\n",
    "from backend.resampler import *\n",
    "from backend.mt5_tools import *\n",
    "\n",
    "from statsmodels.tsa.stattools import adfuller\n",
    "from analisys.graph_analisys import moving_avg\n",
    "\n",
    "import pyfolio as pf\n",
    "from datetime import datetime\n",
    "import time\n",
    "from scipy.stats import pearsonr\n",
    "\n",
    "import seaborn as sns\n",
    "import plotly.express as px\n",
    "\n",
    "sns.set_theme()\n",
    "%matplotlib inline\n",
    "\n",
    "os.listdir()"
   ]
  },
  {
   "cell_type": "code",
   "execution_count": 2,
   "metadata": {
    "scrolled": true
   },
   "outputs": [],
   "source": [
    "df_14bis = pd.read_excel('forest[(10, 150), (0, 5), (-5, 0), (-1, 0), (0, 1), (700, 3000), (25, 50), (-300, 0)]44b4_t5504522roiloss1000305_2018.11.15x2021.05.31.xls', index_col=0)\n",
    "\n",
    "def data_format(df_14bis, cap = 100000):\n",
    "    \n",
    "    Date = []\n",
    "    for i in df_14bis['date']:\n",
    "        Date.append(datetime.strptime(i.replace('.', '-'), '%Y-%m-%d'))\n",
    "    \n",
    "    df_14bis['Date'] = Date\n",
    "    df_14bis.index = Date\n",
    "    df_14bis['100k return'] = pd.Series((df_14bis['return']) /cap)\n",
    "\n",
    "    ibov_returns = np.diff(df_14bis['IBOV'])\n",
    "    fourteenbis_returns =np.diff(df_14bis['14BIS'])\n",
    "\n",
    "    df_14bis['ibov'] = np.insert(ibov_returns,0,0)\n",
    "    df_14bis['14bis'] = np.insert(fourteenbis_returns,0,0)\n",
    "    \n",
    "    return df_14bis\n",
    "\n",
    "df_14bis = data_format(df_14bis)"
   ]
  },
  {
   "cell_type": "code",
   "execution_count": 3,
   "metadata": {},
   "outputs": [
    {
     "output_type": "stream",
     "name": "stdout",
     "text": [
      "585693.2619419191\n"
     ]
    }
   ],
   "source": [
    "df_14bis\n",
    "print(np.mean(df_14bis['EXPO']))"
   ]
  },
  {
   "cell_type": "code",
   "execution_count": 6,
   "metadata": {},
   "outputs": [
    {
     "output_type": "display_data",
     "data": {
      "text/plain": "<IPython.core.display.HTML object>",
      "text/html": "<table border=\"1\" class=\"dataframe\">\n  <thead>\n    <tr style=\"text-align: right;\"><th>Start date</th><td colspan=2>2019-01-04</td></tr>\n    <tr style=\"text-align: right;\"><th>End date</th><td colspan=2>2021-05-24</td></tr>\n    <tr style=\"text-align: right;\"><th>Total months</th><td colspan=2>28</td></tr>\n    <tr style=\"text-align: right;\">\n      <th></th>\n      <th>Backtest</th>\n    </tr>\n  </thead>\n  <tbody>\n    <tr>\n      <th>Annual return</th>\n      <td>101.3%</td>\n    </tr>\n    <tr>\n      <th>Cumulative returns</th>\n      <td>416.0%</td>\n    </tr>\n    <tr>\n      <th>Annual volatility</th>\n      <td>7.4%</td>\n    </tr>\n    <tr>\n      <th>Sharpe ratio</th>\n      <td>9.55</td>\n    </tr>\n    <tr>\n      <th>Calmar ratio</th>\n      <td>33.54</td>\n    </tr>\n    <tr>\n      <th>Stability</th>\n      <td>0.99</td>\n    </tr>\n    <tr>\n      <th>Max drawdown</th>\n      <td>-3.0%</td>\n    </tr>\n    <tr>\n      <th>Omega ratio</th>\n      <td>5.16</td>\n    </tr>\n    <tr>\n      <th>Sortino ratio</th>\n      <td>23.33</td>\n    </tr>\n    <tr>\n      <th>Skew</th>\n      <td>NaN</td>\n    </tr>\n    <tr>\n      <th>Kurtosis</th>\n      <td>NaN</td>\n    </tr>\n    <tr>\n      <th>Tail ratio</th>\n      <td>2.67</td>\n    </tr>\n    <tr>\n      <th>Daily value at risk</th>\n      <td>-0.7%</td>\n    </tr>\n    <tr>\n      <th>Alpha</th>\n      <td>1.02</td>\n    </tr>\n    <tr>\n      <th>Beta</th>\n      <td>0.02</td>\n    </tr>\n  </tbody>\n</table>"
     },
     "metadata": {}
    },
    {
     "output_type": "error",
     "ename": "AttributeError",
     "evalue": "'numpy.int64' object has no attribute 'to_pydatetime'",
     "traceback": [
      "\u001b[0;31m---------------------------------------------------------------------------\u001b[0m",
      "\u001b[0;31mAttributeError\u001b[0m                            Traceback (most recent call last)",
      "\u001b[0;32m<ipython-input-6-eeb42ac40adc>\u001b[0m in \u001b[0;36m<module>\u001b[0;34m\u001b[0m\n\u001b[0;32m----> 1\u001b[0;31m \u001b[0mtear\u001b[0m \u001b[0;34m=\u001b[0m \u001b[0mpf\u001b[0m\u001b[0;34m.\u001b[0m\u001b[0mcreate_returns_tear_sheet\u001b[0m\u001b[0;34m(\u001b[0m\u001b[0mreturns\u001b[0m \u001b[0;34m=\u001b[0m \u001b[0mdf_14bis\u001b[0m\u001b[0;34m[\u001b[0m\u001b[0;34m'14bis'\u001b[0m\u001b[0;34m]\u001b[0m\u001b[0;34m,\u001b[0m \u001b[0mbenchmark_rets\u001b[0m\u001b[0;34m=\u001b[0m\u001b[0mdf_14bis\u001b[0m\u001b[0;34m[\u001b[0m\u001b[0;34m'ibov'\u001b[0m\u001b[0;34m]\u001b[0m\u001b[0;34m)\u001b[0m\u001b[0;34m\u001b[0m\u001b[0;34m\u001b[0m\u001b[0m\n\u001b[0m\u001b[1;32m      2\u001b[0m \u001b[0mtear\u001b[0m\u001b[0;34m\u001b[0m\u001b[0;34m\u001b[0m\u001b[0m\n",
      "\u001b[0;32m~/anaconda3/lib/python3.8/site-packages/pyfolio/plotting.py\u001b[0m in \u001b[0;36mcall_w_context\u001b[0;34m(*args, **kwargs)\u001b[0m\n\u001b[1;32m     50\u001b[0m         \u001b[0;32mif\u001b[0m \u001b[0mset_context\u001b[0m\u001b[0;34m:\u001b[0m\u001b[0;34m\u001b[0m\u001b[0;34m\u001b[0m\u001b[0m\n\u001b[1;32m     51\u001b[0m             \u001b[0;32mwith\u001b[0m \u001b[0mplotting_context\u001b[0m\u001b[0;34m(\u001b[0m\u001b[0;34m)\u001b[0m\u001b[0;34m,\u001b[0m \u001b[0maxes_style\u001b[0m\u001b[0;34m(\u001b[0m\u001b[0;34m)\u001b[0m\u001b[0;34m:\u001b[0m\u001b[0;34m\u001b[0m\u001b[0;34m\u001b[0m\u001b[0m\n\u001b[0;32m---> 52\u001b[0;31m                 \u001b[0;32mreturn\u001b[0m \u001b[0mfunc\u001b[0m\u001b[0;34m(\u001b[0m\u001b[0;34m*\u001b[0m\u001b[0margs\u001b[0m\u001b[0;34m,\u001b[0m \u001b[0;34m**\u001b[0m\u001b[0mkwargs\u001b[0m\u001b[0;34m)\u001b[0m\u001b[0;34m\u001b[0m\u001b[0;34m\u001b[0m\u001b[0m\n\u001b[0m\u001b[1;32m     53\u001b[0m         \u001b[0;32melse\u001b[0m\u001b[0;34m:\u001b[0m\u001b[0;34m\u001b[0m\u001b[0;34m\u001b[0m\u001b[0m\n\u001b[1;32m     54\u001b[0m             \u001b[0;32mreturn\u001b[0m \u001b[0mfunc\u001b[0m\u001b[0;34m(\u001b[0m\u001b[0;34m*\u001b[0m\u001b[0margs\u001b[0m\u001b[0;34m,\u001b[0m \u001b[0;34m**\u001b[0m\u001b[0mkwargs\u001b[0m\u001b[0;34m)\u001b[0m\u001b[0;34m\u001b[0m\u001b[0;34m\u001b[0m\u001b[0m\n",
      "\u001b[0;32m~/anaconda3/lib/python3.8/site-packages/pyfolio/tears.py\u001b[0m in \u001b[0;36mcreate_returns_tear_sheet\u001b[0;34m(returns, positions, transactions, live_start_date, cone_std, benchmark_rets, bootstrap, turnover_denom, header_rows, return_fig)\u001b[0m\n\u001b[1;32m    502\u001b[0m                              header_rows=header_rows)\n\u001b[1;32m    503\u001b[0m \u001b[0;34m\u001b[0m\u001b[0m\n\u001b[0;32m--> 504\u001b[0;31m     \u001b[0mplotting\u001b[0m\u001b[0;34m.\u001b[0m\u001b[0mshow_worst_drawdown_periods\u001b[0m\u001b[0;34m(\u001b[0m\u001b[0mreturns\u001b[0m\u001b[0;34m)\u001b[0m\u001b[0;34m\u001b[0m\u001b[0;34m\u001b[0m\u001b[0m\n\u001b[0m\u001b[1;32m    505\u001b[0m \u001b[0;34m\u001b[0m\u001b[0m\n\u001b[1;32m    506\u001b[0m     \u001b[0mvertical_sections\u001b[0m \u001b[0;34m=\u001b[0m \u001b[0;36m11\u001b[0m\u001b[0;34m\u001b[0m\u001b[0;34m\u001b[0m\u001b[0m\n",
      "\u001b[0;32m~/anaconda3/lib/python3.8/site-packages/pyfolio/plotting.py\u001b[0m in \u001b[0;36mshow_worst_drawdown_periods\u001b[0;34m(returns, top)\u001b[0m\n\u001b[1;32m   1662\u001b[0m     \"\"\"\n\u001b[1;32m   1663\u001b[0m \u001b[0;34m\u001b[0m\u001b[0m\n\u001b[0;32m-> 1664\u001b[0;31m     \u001b[0mdrawdown_df\u001b[0m \u001b[0;34m=\u001b[0m \u001b[0mtimeseries\u001b[0m\u001b[0;34m.\u001b[0m\u001b[0mgen_drawdown_table\u001b[0m\u001b[0;34m(\u001b[0m\u001b[0mreturns\u001b[0m\u001b[0;34m,\u001b[0m \u001b[0mtop\u001b[0m\u001b[0;34m=\u001b[0m\u001b[0mtop\u001b[0m\u001b[0;34m)\u001b[0m\u001b[0;34m\u001b[0m\u001b[0;34m\u001b[0m\u001b[0m\n\u001b[0m\u001b[1;32m   1665\u001b[0m     utils.print_table(\n\u001b[1;32m   1666\u001b[0m         \u001b[0mdrawdown_df\u001b[0m\u001b[0;34m.\u001b[0m\u001b[0msort_values\u001b[0m\u001b[0;34m(\u001b[0m\u001b[0;34m'Net drawdown in %'\u001b[0m\u001b[0;34m,\u001b[0m \u001b[0mascending\u001b[0m\u001b[0;34m=\u001b[0m\u001b[0;32mFalse\u001b[0m\u001b[0;34m)\u001b[0m\u001b[0;34m,\u001b[0m\u001b[0;34m\u001b[0m\u001b[0;34m\u001b[0m\u001b[0m\n",
      "\u001b[0;32m~/anaconda3/lib/python3.8/site-packages/pyfolio/timeseries.py\u001b[0m in \u001b[0;36mgen_drawdown_table\u001b[0;34m(returns, top)\u001b[0m\n\u001b[1;32m   1006\u001b[0m         df_drawdowns.loc[i, 'Peak date'] = (peak.to_pydatetime()\n\u001b[1;32m   1007\u001b[0m                                             .strftime('%Y-%m-%d'))\n\u001b[0;32m-> 1008\u001b[0;31m         df_drawdowns.loc[i, 'Valley date'] = (valley.to_pydatetime()\n\u001b[0m\u001b[1;32m   1009\u001b[0m                                               .strftime('%Y-%m-%d'))\n\u001b[1;32m   1010\u001b[0m         \u001b[0;32mif\u001b[0m \u001b[0misinstance\u001b[0m\u001b[0;34m(\u001b[0m\u001b[0mrecovery\u001b[0m\u001b[0;34m,\u001b[0m \u001b[0mfloat\u001b[0m\u001b[0;34m)\u001b[0m\u001b[0;34m:\u001b[0m\u001b[0;34m\u001b[0m\u001b[0;34m\u001b[0m\u001b[0m\n",
      "\u001b[0;31mAttributeError\u001b[0m: 'numpy.int64' object has no attribute 'to_pydatetime'"
     ]
    }
   ],
   "source": [
    "tear = pf.create_returns_tear_sheet(returns = df_14bis['14bis'], benchmark_rets=df_14bis['ibov'])\n",
    "tear"
   ]
  },
  {
   "cell_type": "code",
   "execution_count": null,
   "metadata": {},
   "outputs": [],
   "source": []
  }
 ],
 "metadata": {
  "kernelspec": {
   "name": "python385jvsc74a57bd0ddca0790838dc53580143d8ae604fed6d6db5baa684a2f48e0dde4d73bc87b89",
   "display_name": "Python"
  },
  "language_info": {
   "codemirror_mode": {
    "name": "ipython",
    "version": 3
   },
   "file_extension": ".py",
   "mimetype": "text/x-python",
   "name": "python",
   "nbconvert_exporter": "python",
   "pygments_lexer": "ipython3",
   "version": "3.8.5"
  }
 },
 "nbformat": 4,
 "nbformat_minor": 4
}