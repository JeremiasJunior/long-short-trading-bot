{
 "metadata": {
  "language_info": {
   "codemirror_mode": {
    "name": "ipython",
    "version": 3
   },
   "file_extension": ".py",
   "mimetype": "text/x-python",
   "name": "python",
   "nbconvert_exporter": "python",
   "pygments_lexer": "ipython3",
   "version": "3.8.5"
  },
  "orig_nbformat": 4,
  "kernelspec": {
   "name": "python3",
   "display_name": "Python 3.8.5 64-bit ('base': conda)"
  },
  "interpreter": {
   "hash": "ddca0790838dc53580143d8ae604fed6d6db5baa684a2f48e0dde4d73bc87b89"
  }
 },
 "nbformat": 4,
 "nbformat_minor": 2,
 "cells": [
  {
   "cell_type": "code",
   "execution_count": 9,
   "metadata": {},
   "outputs": [],
   "source": [
    "import init\n",
    "\n",
    "from analisys.bkt_analisys import *\n",
    "from analisys.data_analisys import *\n",
    "from analisys.graph_analisys import *\n",
    "from analisys.optmizer_analisys import *\n",
    "\n",
    "\n",
    "import pandas as pd\n",
    "import seaborn as sns\n",
    "sns.set_theme()\n",
    "\n",
    "import random\n",
    "import os\n",
    "\n",
    "from backend.resampler import *\n",
    "from backend.mt5_tools import *\n",
    "\n",
    "from statsmodels.tsa.stattools import adfuller\n",
    "from analisys.graph_analisys import moving_avg\n",
    "from secrets import token_hex as token\n",
    "\n",
    "\n",
    "import plotly.graph_objects as go\n",
    "from plotly.subplots import make_subplots\n",
    "\n",
    "import plotly.io as pio\n",
    "pio.orca.config.use_xvfb = True\n",
    "\n"
   ]
  },
  {
   "cell_type": "code",
   "execution_count": 10,
   "metadata": {},
   "outputs": [],
   "source": [
    "def get_days(start_date, end_date, d_train, d_test):\n",
    "\n",
    "    ibov = mt5_singlehistoricaldata('IBOV', 16408, start_date, end_date)\n",
    "    ibov_date = list(ibov['date'])\n",
    "    ibov_date.reverse()\n",
    "\n",
    "    date_iteration = []\n",
    "\n",
    "    for d in range(len(ibov_date))[:-(d_train+d_test)]:\n",
    "\n",
    "        train_startdate = ibov_date[d].split(' ')[0]\n",
    "        train_enddate = ibov_date[d+d_train].split(' ')[0]\n",
    "        test_startdate = ibov_date[d+d_train].split(' ')[0]\n",
    "        test_enddate = ibov_date[d+d_test+d_train].split(' ')[0]\n",
    "\n",
    "        date_iteration.append(tuple([train_startdate, train_enddate,\n",
    "                                    test_startdate, test_enddate]))\n",
    "\n",
    "    #real_startdate = date_iteration[0][2]\n",
    "    #real_enddate = date_iteration[-1][-2]\n",
    "\n",
    "    return date_iteration, ibov_date\n",
    "    \n",
    "def cointpair_selection(hist, dataframe, lags):\n",
    "\n",
    "    co = h_coint(hist, dataframe, n_lags=lags)\n",
    "    co = pd.DataFrame(co)\n",
    "    co = co.sort_values(by=['pvalue'])\n",
    "    co = co.reset_index(drop=True)\n",
    "\n",
    "    new_co = pd.DataFrame({'pvalue':pd.Series([]), 'stdx':pd.Series([]), \n",
    "                                'stdy':pd.Series([]), 'x':pd.Series([]), 'y':pd.Series([])})\n",
    "\n",
    "\n",
    "    if(len(co) == 0):\n",
    "        return new_co\n",
    "\n",
    "    co_len = [i for i in range(len(co))]\n",
    "\n",
    "    for j in co_len:\n",
    "\n",
    "        x,y = list(co['x'])[j], list(co['y'])[j]\n",
    "\n",
    "        if not((x in list(new_co['x'])) or (x in list(new_co['y'])) or \n",
    "                    (y in list(new_co['x'])) or (y in list(new_co['y']))):\n",
    "\n",
    "            new_co = new_co.append(co.iloc()[j])\n",
    "\n",
    "    new_co = new_co.reset_index(drop=True)\n",
    "\n",
    "\n",
    "\n",
    "    return new_co\n",
    "\n",
    "def clayer_selection(hist, dataframe, lags):\n",
    "    pass\n",
    "\n",
    "\n"
   ]
  },
  {
   "cell_type": "code",
   "execution_count": 8,
   "metadata": {},
   "outputs": [
    {
     "output_type": "error",
     "ename": "NameError",
     "evalue": "name 'mt5_singlehistoricaldata' is not defined",
     "traceback": [
      "\u001b[0;31m---------------------------------------------------------------------------\u001b[0m",
      "\u001b[0;31mNameError\u001b[0m                                 Traceback (most recent call last)",
      "\u001b[0;32m<ipython-input-8-d5f1ef4b3d64>\u001b[0m in \u001b[0;36m<module>\u001b[0;34m\u001b[0m\n\u001b[1;32m     10\u001b[0m \u001b[0;34m\u001b[0m\u001b[0m\n\u001b[1;32m     11\u001b[0m \u001b[0;34m\u001b[0m\u001b[0m\n\u001b[0;32m---> 12\u001b[0;31m \u001b[0md\u001b[0m \u001b[0;34m=\u001b[0m \u001b[0mget_days\u001b[0m\u001b[0;34m(\u001b[0m\u001b[0mstart_date30\u001b[0m\u001b[0;34m,\u001b[0m \u001b[0mend_date\u001b[0m\u001b[0;34m,\u001b[0m \u001b[0md_train\u001b[0m\u001b[0;34m,\u001b[0m \u001b[0md_test\u001b[0m\u001b[0;34m)\u001b[0m\u001b[0;34m\u001b[0m\u001b[0;34m\u001b[0m\u001b[0m\n\u001b[0m\u001b[1;32m     13\u001b[0m \u001b[0mlen\u001b[0m\u001b[0;34m(\u001b[0m\u001b[0md\u001b[0m\u001b[0;34m[\u001b[0m\u001b[0;36m1\u001b[0m\u001b[0;34m]\u001b[0m\u001b[0;34m)\u001b[0m\u001b[0;34m\u001b[0m\u001b[0;34m\u001b[0m\u001b[0m\n\u001b[1;32m     14\u001b[0m \u001b[0mprint\u001b[0m\u001b[0;34m(\u001b[0m\u001b[0mlen\u001b[0m\u001b[0;34m(\u001b[0m\u001b[0md\u001b[0m\u001b[0;34m[\u001b[0m\u001b[0;36m1\u001b[0m\u001b[0;34m]\u001b[0m\u001b[0;34m)\u001b[0m\u001b[0;34m,\u001b[0m \u001b[0md\u001b[0m\u001b[0;34m[\u001b[0m\u001b[0;36m1\u001b[0m\u001b[0;34m]\u001b[0m\u001b[0;34m)\u001b[0m\u001b[0;34m\u001b[0m\u001b[0;34m\u001b[0m\u001b[0m\n",
      "\u001b[0;32m<ipython-input-4-d68c8d8f361e>\u001b[0m in \u001b[0;36mget_days\u001b[0;34m(start_date, end_date, d_train, d_test)\u001b[0m\n\u001b[1;32m      1\u001b[0m \u001b[0;32mdef\u001b[0m \u001b[0mget_days\u001b[0m\u001b[0;34m(\u001b[0m\u001b[0mstart_date\u001b[0m\u001b[0;34m,\u001b[0m \u001b[0mend_date\u001b[0m\u001b[0;34m,\u001b[0m \u001b[0md_train\u001b[0m\u001b[0;34m,\u001b[0m \u001b[0md_test\u001b[0m\u001b[0;34m)\u001b[0m\u001b[0;34m:\u001b[0m\u001b[0;34m\u001b[0m\u001b[0;34m\u001b[0m\u001b[0m\n\u001b[1;32m      2\u001b[0m \u001b[0;34m\u001b[0m\u001b[0m\n\u001b[0;32m----> 3\u001b[0;31m     \u001b[0mibov\u001b[0m \u001b[0;34m=\u001b[0m \u001b[0mmt5_singlehistoricaldata\u001b[0m\u001b[0;34m(\u001b[0m\u001b[0;34m'IBOV'\u001b[0m\u001b[0;34m,\u001b[0m \u001b[0;36m16408\u001b[0m\u001b[0;34m,\u001b[0m \u001b[0mstart_date\u001b[0m\u001b[0;34m,\u001b[0m \u001b[0mend_date\u001b[0m\u001b[0;34m)\u001b[0m\u001b[0;34m\u001b[0m\u001b[0;34m\u001b[0m\u001b[0m\n\u001b[0m\u001b[1;32m      4\u001b[0m     \u001b[0mibov_date\u001b[0m \u001b[0;34m=\u001b[0m \u001b[0mlist\u001b[0m\u001b[0;34m(\u001b[0m\u001b[0mibov\u001b[0m\u001b[0;34m[\u001b[0m\u001b[0;34m'date'\u001b[0m\u001b[0;34m]\u001b[0m\u001b[0;34m)\u001b[0m\u001b[0;34m\u001b[0m\u001b[0;34m\u001b[0m\u001b[0m\n\u001b[1;32m      5\u001b[0m     \u001b[0mibov_date\u001b[0m\u001b[0;34m.\u001b[0m\u001b[0mreverse\u001b[0m\u001b[0;34m(\u001b[0m\u001b[0;34m)\u001b[0m\u001b[0;34m\u001b[0m\u001b[0;34m\u001b[0m\u001b[0m\n",
      "\u001b[0;31mNameError\u001b[0m: name 'mt5_singlehistoricaldata' is not defined"
     ]
    }
   ],
   "source": [
    "csv_l = 'symbols.csv'\n",
    "d_train = 30\n",
    "d_test = 5\n",
    "\n",
    "start_date30 = '2021.04.26'\n",
    "start_date15 = '2021.05.14' \n",
    "start_date5 = '2021.05.14' \n",
    "\n",
    "end_date = '2021.06.07'\n",
    "\n",
    "\n",
    "d = get_days(start_date30, end_date, d_train, d_test)\n",
    "len(d[1])\n",
    "print(len(d[1]), d[1])\n"
   ]
  },
  {
   "cell_type": "code",
   "execution_count": null,
   "metadata": {},
   "outputs": [],
   "source": [
    "\n",
    "\n",
    "\n",
    "hist30 = mt5_historicaldata(5, start_date30, end_date, csv_list = csv_l, interpol=False, bolsa='IBOV')\n",
    "hist15_5 = mt5_historicaldata(5, start_date15, end_date, csv_list= csv_l, interpol=False, bolsa='IBOV')\n",
    "hist15_1 = mt5_historicaldata(1, start_date15, end_date, csv_list= csv_l, interpol=False, bolsa='IBOV')\n",
    "hist5_5 = mt5_historicaldata(5, start_date15, end_date, csv_list= csv_l, interpol=False, bolsa='IBOV')\n",
    "hist5_1 = mt\n",
    "\n",
    "\n",
    "\n",
    "\n"
   ]
  }
 ]
}