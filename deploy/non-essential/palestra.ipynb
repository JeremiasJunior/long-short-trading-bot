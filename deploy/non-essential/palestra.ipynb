{
 "cells": [
  {
   "cell_type": "code",
   "execution_count": 4,
   "metadata": {},
   "outputs": [],
   "source": [
    "#Importa as bibliotecas\n",
    "\n",
    "import init\n",
    "\n",
    "\n",
    "from analisys.bkt_analisys import *\n",
    "from analisys.data_analisys import *\n",
    "from analisys.graph_analisys import *\n",
    "from analisys.optmizer_analisys import *\n",
    "\n",
    "import numpy as np\n",
    "import pandas as pd\n",
    "import seaborn as sb\n",
    "import random\n",
    "import os\n",
    "import plotly.express as px\n",
    "from backend.resampler import *\n",
    "from backend.mt5_tools import *\n",
    "\n",
    "from statsmodels.tsa.stattools import adfuller\n",
    "from analisys.graph_analisys import moving_avg\n",
    "\n",
    "from scipy.optimize import rosen, differential_evolution\n",
    "\n"
   ]
  },
  {
   "cell_type": "code",
   "execution_count": 5,
   "metadata": {},
   "outputs": [],
   "source": [
    "start_data = '2021.04.04'\n",
    "end_data = '2021.11.01'\n",
    "\n",
    "name_x = 'PETR3'\n",
    "name_y = 'PETR4'\n",
    "\n",
    "timeframe = 5\n",
    "\n",
    "\n",
    "s_spread = 0\n",
    "l_spread = -1\n",
    "tp_short = 0\n",
    "tp_long = 0\n",
    "tp_return = 1500\n",
    "stop_return = -289 \n",
    "stop_number = 43\n",
    "period = 44\n",
    "p_size = 5000\n",
    "\n",
    "hist_x = mt5_singlehistoricaldata(name_x,timeframe,start_data, end_data)\n",
    "hist_y = mt5_singlehistoricaldata(name_y,timeframe,start_data, end_data)\n"
   ]
  },
  {
   "cell_type": "code",
   "execution_count": 6,
   "metadata": {},
   "outputs": [
    {
     "ename": "OverflowError",
     "evalue": "cannot convert float infinity to integer",
     "output_type": "error",
     "traceback": [
      "\u001b[0;31m---------------------------------------------------------------------------\u001b[0m",
      "\u001b[0;31mOverflowError\u001b[0m                             Traceback (most recent call last)",
      "\u001b[0;32m<ipython-input-6-dde591178235>\u001b[0m in \u001b[0;36m<module>\u001b[0;34m\u001b[0m\n\u001b[0;32m----> 1\u001b[0;31m \u001b[0mresult\u001b[0m \u001b[0;34m=\u001b[0m \u001b[0mrunbkt\u001b[0m\u001b[0;34m(\u001b[0m\u001b[0mhist_x\u001b[0m\u001b[0;34m,\u001b[0m \u001b[0mhist_y\u001b[0m\u001b[0;34m,\u001b[0m \u001b[0mname_x\u001b[0m\u001b[0;34m,\u001b[0m \u001b[0mname_y\u001b[0m\u001b[0;34m,\u001b[0m \u001b[0mperiod\u001b[0m\u001b[0;34m,\u001b[0m \u001b[0ms_spread\u001b[0m\u001b[0;34m,\u001b[0m \u001b[0ml_spread\u001b[0m\u001b[0;34m,\u001b[0m \u001b[0mtp_short\u001b[0m\u001b[0;34m,\u001b[0m \u001b[0mtp_long\u001b[0m\u001b[0;34m,\u001b[0m \u001b[0mstop_number\u001b[0m\u001b[0;34m,\u001b[0m \u001b[0;36m50\u001b[0m \u001b[0;34m,\u001b[0m\u001b[0mp_size\u001b[0m\u001b[0;34m)\u001b[0m\u001b[0;34m\u001b[0m\u001b[0;34m\u001b[0m\u001b[0m\n\u001b[0m",
      "\u001b[0;32m~/Documents/Github/14bis_2.0/analisys/bkt_analisys.py\u001b[0m in \u001b[0;36m__new__\u001b[0;34m(self, symbol_x, symbol_y, name_x, name_y, _period, s_spread, l_spread, tp_s, tp_l, stop_n, c_min, p_size, t)\u001b[0m\n\u001b[1;32m     41\u001b[0m                                         \u001b[0mcolumn\u001b[0m \u001b[0;34m=\u001b[0m \u001b[0;34m'close'\u001b[0m\u001b[0;34m,\u001b[0m \u001b[0mposition_size\u001b[0m\u001b[0;34m=\u001b[0m\u001b[0mp_size\u001b[0m\u001b[0;34m,\u001b[0m \u001b[0mstop_number\u001b[0m\u001b[0;34m=\u001b[0m\u001b[0mstop_n\u001b[0m\u001b[0;34m,\u001b[0m \u001b[0mmin_count\u001b[0m\u001b[0;34m=\u001b[0m\u001b[0mc_min\u001b[0m\u001b[0;34m,\u001b[0m\u001b[0;34m\u001b[0m\u001b[0;34m\u001b[0m\u001b[0m\n\u001b[1;32m     42\u001b[0m                                         \u001b[0mtp_long\u001b[0m\u001b[0;34m=\u001b[0m\u001b[0mtp_l\u001b[0m\u001b[0;34m,\u001b[0m \u001b[0mtp_short\u001b[0m\u001b[0;34m=\u001b[0m\u001b[0mtp_s\u001b[0m\u001b[0;34m,\u001b[0m\u001b[0;34m\u001b[0m\u001b[0;34m\u001b[0m\u001b[0m\n\u001b[0;32m---> 43\u001b[0;31m                                         period=_period, f_name='', treino = t)\n\u001b[0m\u001b[1;32m     44\u001b[0m \u001b[0;34m\u001b[0m\u001b[0m\n\u001b[1;32m     45\u001b[0m         \u001b[0mself\u001b[0m\u001b[0;34m.\u001b[0m\u001b[0mresults\u001b[0m\u001b[0;34m[\u001b[0m\u001b[0;34m'profit'\u001b[0m\u001b[0;34m]\u001b[0m \u001b[0;34m=\u001b[0m \u001b[0mrunbkt\u001b[0m\u001b[0;34m.\u001b[0m\u001b[0mprofit\u001b[0m\u001b[0;34m(\u001b[0m\u001b[0mself\u001b[0m\u001b[0;34m.\u001b[0m\u001b[0mresults\u001b[0m\u001b[0;34m[\u001b[0m\u001b[0;34m'returns'\u001b[0m\u001b[0;34m]\u001b[0m\u001b[0;34m)\u001b[0m\u001b[0;34m\u001b[0m\u001b[0;34m\u001b[0m\u001b[0m\n",
      "\u001b[0;32m~/Documents/Github/14bis_2.0/backend/bkt.py\u001b[0m in \u001b[0;36m__new__\u001b[0;34m(self, dependent_ticker, df_x, independent_ticker, df_y, column, f_name, short_spread, long_spread, position_size, stop_number, min_count, tp_long, tp_short, period, treino, more, exchange)\u001b[0m\n\u001b[1;32m    218\u001b[0m \u001b[0;34m\u001b[0m\u001b[0m\n\u001b[1;32m    219\u001b[0m \u001b[0;34m\u001b[0m\u001b[0m\n\u001b[0;32m--> 220\u001b[0;31m                 \u001b[0mratiolot\u001b[0m \u001b[0;34m=\u001b[0m \u001b[0mbkt_godhand\u001b[0m\u001b[0;34m.\u001b[0m\u001b[0mroundlot2\u001b[0m\u001b[0;34m(\u001b[0m\u001b[0mcurrent_x_price\u001b[0m\u001b[0;34m,\u001b[0m \u001b[0mcurrent_y_price\u001b[0m\u001b[0;34m,\u001b[0m \u001b[0mposition_size\u001b[0m\u001b[0;34m)\u001b[0m\u001b[0;34m\u001b[0m\u001b[0;34m\u001b[0m\u001b[0m\n\u001b[0m\u001b[1;32m    221\u001b[0m \u001b[0;34m\u001b[0m\u001b[0m\n\u001b[1;32m    222\u001b[0m                 \u001b[0;32mif\u001b[0m \u001b[0mcanTrade\u001b[0m\u001b[0;34m:\u001b[0m\u001b[0;34m\u001b[0m\u001b[0;34m\u001b[0m\u001b[0m\n",
      "\u001b[0;32m~/Documents/Github/14bis_2.0/backend/bkt.py\u001b[0m in \u001b[0;36mroundlot2\u001b[0;34m(x_price, y_price, lot)\u001b[0m\n\u001b[1;32m    620\u001b[0m \u001b[0;34m\u001b[0m\u001b[0m\n\u001b[1;32m    621\u001b[0m         \u001b[0;32mif\u001b[0m\u001b[0;34m(\u001b[0m\u001b[0mx_price\u001b[0m \u001b[0;34m==\u001b[0m \u001b[0;36m0\u001b[0m\u001b[0;34m)\u001b[0m\u001b[0;34m:\u001b[0m\u001b[0;34m\u001b[0m\u001b[0;34m\u001b[0m\u001b[0m\n\u001b[0;32m--> 622\u001b[0;31m             \u001b[0mx_price\u001b[0m \u001b[0;34m=\u001b[0m \u001b[0;36m1\u001b[0m\u001b[0;34m\u001b[0m\u001b[0;34m\u001b[0m\u001b[0m\n\u001b[0m\u001b[1;32m    623\u001b[0m         \u001b[0;32mif\u001b[0m\u001b[0;34m(\u001b[0m\u001b[0my_price\u001b[0m \u001b[0;34m==\u001b[0m \u001b[0;36m0\u001b[0m\u001b[0;34m)\u001b[0m\u001b[0;34m:\u001b[0m\u001b[0;34m\u001b[0m\u001b[0;34m\u001b[0m\u001b[0m\n\u001b[1;32m    624\u001b[0m             \u001b[0my_price\u001b[0m \u001b[0;34m=\u001b[0m\u001b[0;36m1\u001b[0m\u001b[0;34m\u001b[0m\u001b[0;34m\u001b[0m\u001b[0m\n",
      "\u001b[0;31mOverflowError\u001b[0m: cannot convert float infinity to integer"
     ]
    }
   ],
   "source": [
    "result = runbkt(hist_x, hist_y, name_x, name_y, period, s_spread, l_spread, tp_short, tp_long, stop_number, 50 ,p_size)\n"
   ]
  },
  {
   "cell_type": "code",
   "execution_count": null,
   "metadata": {},
   "outputs": [],
   "source": [
    "result.keys()"
   ]
  },
  {
   "cell_type": "code",
   "execution_count": null,
   "metadata": {},
   "outputs": [],
   "source": [
    "result['positions_list'][0]['profit']\n",
    "\n",
    "bar_profit = []\n",
    "\n",
    "for i in result['positions_list']:\n",
    "    bar_profit.append(i['profit'])\n",
    "\n",
    "print(bar_profit)"
   ]
  },
  {
   "cell_type": "code",
   "execution_count": null,
   "metadata": {},
   "outputs": [],
   "source": [
    "import seaborn as sns\n",
    "\n",
    "fig, ax1 = plt.subplots()\n",
    "ax1.set_ylabel('retorno (R$)')\n",
    "plt.xlabel('Operações')\n",
    "\n",
    "ax1.bar(x = range(len(result['positions_list'].invert())),height= bar_profit, alpha = 0.7)\n",
    "ax2 = ax1.twinx()\n",
    "ax2.plot(np.cumsum(result['returns']), 'go-', linewidth=3)\n",
    "ax2.set_ylabel('lucro (R$)')\n",
    "plt.show()\n",
    "\n"
   ]
  },
  {
   "cell_type": "code",
   "execution_count": null,
   "metadata": {},
   "outputs": [],
   "source": [
    "breakpoint()"
   ]
  },
  {
   "cell_type": "code",
   "execution_count": null,
   "metadata": {},
   "outputs": [],
   "source": [
    "from datetime import datetime\n",
    "t = result['positions_list'][0]['time'][0]\n",
    "new_t = datetime.strptime(t, '%Y-%m-%d %H:%M:%S') \n"
   ]
  },
  {
   "cell_type": "code",
   "execution_count": null,
   "metadata": {},
   "outputs": [],
   "source": [
    "new_t.day"
   ]
  },
  {
   "cell_type": "code",
   "execution_count": null,
   "metadata": {},
   "outputs": [],
   "source": [
    "result.keys()"
   ]
  },
  {
   "cell_type": "code",
   "execution_count": null,
   "metadata": {},
   "outputs": [],
   "source": [
    "opt_param = 'profit'\n",
    "\n",
    "def simplebkt(  symbol_x,\n",
    "                symbol_y,\n",
    "                name_x,\n",
    "                name_y,\n",
    "                _period,\n",
    "                s_spread,\n",
    "                l_spread,\n",
    "                tp_s,\n",
    "                tp_l,\n",
    "                tp_r,\n",
    "                stop_n,\n",
    "                stop_r,\n",
    "                pos_size=5000):\n",
    "\n",
    "    #fname = '{}x{}x{}{}{}.json'.format(name_x, name_y, datetime.datetime.now().hour, datetime.datetime.now().minute, datetime.datetime.now().second)\n",
    "\n",
    "    dic = runbkt(symbol_x, symbol_y, name_x, name_y, _period,s_spread, l_spread, tp_s, tp_l, stop_n, stop_r, pos_size)\n",
    "    return dic['profit']\n",
    "\n",
    "def treino(x, name_x, name_y, df_treino):\n",
    "\n",
    "    _p, shortspread, longspread, takeprofitshort, takeprofitlong, takeprofitreturn, stopnumber, stopreturn = x\n",
    "    name_x, name_y, df_treino = arg\n",
    "    r = simplebkt(df_treino[name_x], df_treino[name_y], name_x, name_y, _p, shortspread, longspread, takeprofitshort, takeprofitreturn, takeprofitlong, stopnumber, stopreturn)\n",
    "    return -r\n",
    "\n",
    "result_opttrain = forestbkt(name_x, name_y, treino, hist_test, n=40, opt_param='profit', pos_size=5000, space=space_param)\n",
    "a,b,c,d,e,f,g,h = param\n",
    "\n",
    "forest = runbkt(df_test[name_x], df_test[name_y], name_x, name_y, a,b,c,d,e,f,g,h, 5000)\n",
    "\n",
    "print(param)"
   ]
  },
  {
   "cell_type": "code",
   "execution_count": null,
   "metadata": {
    "tags": []
   },
   "outputs": [],
   "source": [
    "#Roda otimização de parametros\n",
    "bounds = space_param\n",
    "arg = [name_x, name_y, df_treino]\n",
    "\n",
    "\n"
   ]
  },
  {
   "cell_type": "code",
   "execution_count": null,
   "metadata": {},
   "outputs": [],
   "source": [
    "result_differential = differential_evolution(treino, bounds, args = [name_x, name_y, df_treino], updating='deferred',\n",
    "                                workers=8, disp=True, maxiter = 10)\n",
    "\n",
    "\n"
   ]
  },
  {
   "cell_type": "code",
   "execution_count": null,
   "metadata": {},
   "outputs": [],
   "source": [
    "a,b,c,d,e,f,g,h = result_differential['x']\n",
    "\n",
    "res = runbkt(df_test[name_x], df_test[name_y], name_x, name_y, a, b, c, d, e, f, g, h, p_size = 300)\n",
    "\n",
    "print(forest['returns'], res['returns'], result_differential['x'])"
   ]
  },
  {
   "cell_type": "raw",
   "metadata": {},
   "source": [
    "profit_treino = np.cumsum(result['treino']['returns'])\n",
    "profit_test = np.cumsum(result['test']['returns'])\n",
    "\n",
    "\n",
    "fig, (ax1, ax2) = plt.subplots(1,2)\n",
    "\n",
    "ax1.plot(profit_treino)\n",
    "ax2.plot(profit_test)\n",
    "\n",
    "fig2, (ax12, ax22) = plt.subplots(1,2)\n",
    "\n",
    "ax12.plot(result['treino']['returns'])\n",
    "ax22.plot(result['test']['returns'])\n",
    "\n",
    "import numpy as np\n",
    "\n",
    "print('Parametros : ',result['parametros'])\n",
    "print('Desvio do Profit : ',[np.std(profit_treino), np.std(profit_test)])\n"
   ]
  },
  {
   "cell_type": "code",
   "execution_count": null,
   "metadata": {},
   "outputs": [],
   "source": []
  }
 ],
 "metadata": {
  "interpreter": {
   "hash": "1bf0c4fcc178e7a72aa4c670c93393f0789e15e0a2410701bc452393cfe84a07"
  },
  "kernelspec": {
   "display_name": "Python 3.7.6 64-bit ('base': conda)",
   "name": "python3"
  },
  "language_info": {
   "codemirror_mode": {
    "name": "ipython",
    "version": 3
   },
   "file_extension": ".py",
   "mimetype": "text/x-python",
   "name": "python",
   "nbconvert_exporter": "python",
   "pygments_lexer": "ipython3",
   "version": "3.7.6"
  }
 },
 "nbformat": 4,
 "nbformat_minor": 2
}
