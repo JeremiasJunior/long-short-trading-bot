{
 "cells": [
  {
   "cell_type": "code",
   "execution_count": 1,
   "metadata": {},
   "outputs": [],
   "source": [
    "#connect = %connect_info\n",
    "import init\n",
    "from analisys.bkt_analisys import *\n",
    "from analisys.data_analisys import *\n",
    "from analisys.graph_analisys import *\n",
    "from analisys.optmizer_analisys import *"
   ]
  },
  {
   "cell_type": "code",
   "execution_count": 2,
   "metadata": {},
   "outputs": [],
   "source": [
    "#pega os dados e verifica cointegração\n",
    "hist = mt5_historicaldata(5, '2019.12.19', '2019.12.28')\n"
   ]
  },
  {
   "cell_type": "code",
   "execution_count": 3,
   "metadata": {},
   "outputs": [],
   "source": [
    "result = runbkt(hist['SULA11'], hist['BPAC11'], 'MULT3', 'BPAC11', 190, 1, -4, 0, 1, 1000000, 41, -171, 300)"
   ]
  },
  {
   "cell_type": "code",
   "execution_count": 6,
   "metadata": {},
   "outputs": [
    {
     "data": {
      "text/plain": [
       "(140.99999999999636, -75.0)"
      ]
     },
     "execution_count": 6,
     "metadata": {},
     "output_type": "execute_result"
    }
   ],
   "source": [
    "result['long_sum'], result['short_sum']"
   ]
  },
  {
   "cell_type": "code",
   "execution_count": 5,
   "metadata": {},
   "outputs": [
    {
     "data": {
      "text/plain": [
       "{'97374bdb,f7a578c4': {'type': 'long_spread',\n",
       "  'time': ['2019-12-27 17:40:00', '2019-12-27 17:50:00'],\n",
       "  'y_ticket': 'f7a578c4',\n",
       "  'y_price': [73.93, 74.4],\n",
       "  'y_volume': 300,\n",
       "  'x_ticket': '97374bdb',\n",
       "  'x_price': [55.13, 55.38],\n",
       "  'x_volume': 300,\n",
       "  'status': 'close',\n",
       "  'lucro': 65.99999999999966,\n",
       "  'i': [480, 482]}}"
      ]
     },
     "execution_count": 5,
     "metadata": {},
     "output_type": "execute_result"
    }
   ],
   "source": [
    "result['positions']"
   ]
  },
  {
   "cell_type": "code",
   "execution_count": null,
   "metadata": {},
   "outputs": [],
   "source": [
    "treino = result_opttrain['treino']['indicators']['profit_s']\n",
    "                                                                                                                                                                                                                                                                                                                                                                                                                                                                                                                                                                                                                                                                                                                                                                                                                                                                                                                                                                                                                                                                                                                                                                                                                                                                                                                                                                                                                                                                                                                                                                                                                                                                test = result_opttrain['test']['indicators']['profit_s']\n",
    "parametros = result_opttrain['parametros']\n",
    "\n",
    "fig, (ax1, ax2) = plt.subplots(1,2)\n",
    "ax1.plot(treino)\n",
    "ax2.plot(test)\n",
    "\n",
    "import numpy as np\n",
    "\n",
    "print('Parametros : ', parametros)"
   ]
  },
  {
   "cell_type": "code",
   "execution_count": null,
   "metadata": {},
   "outputs": [],
   "source": [
    "fig, ax = plt.subplots(1,1)\n",
    "ax.plot(residuals)"
   ]
  }
 ],
 "metadata": {
  "kernelspec": {
   "display_name": "Python 3",
   "language": "python",
   "name": "python3"
  },
  "language_info": {
   "codemirror_mode": {
    "name": "ipython",
    "version": 3
   },
   "file_extension": ".py",
   "mimetype": "text/x-python",
   "name": "python",
   "nbconvert_exporter": "python",
   "pygments_lexer": "ipython3",
   "version": "3.8.5"
  }
 },
 "nbformat": 4,
 "nbformat_minor": 4
}
