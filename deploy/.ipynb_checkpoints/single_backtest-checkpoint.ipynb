{
 "cells": [
  {
   "cell_type": "code",
   "execution_count": 1,
   "metadata": {},
   "outputs": [],
   "source": [
    "#Importa as bibliotecas\n",
    "\n",
    "import init\n",
    "\n",
    "\n",
    "from analisys.bkt_analisys import *\n",
    "from analisys.data_analisys import *\n",
    "from analisys.graph_analisys import *\n",
    "from analisys.optmizer_analisys import *\n",
    "\n",
    "from sklearn.preprocessing import MinMaxScaler\n",
    "from scipy.stats import zscore\n",
    "\n",
    "import numpy as np\n",
    "import pandas as pd\n",
    "pd.options.display.float_format = '{:.5f}'.format\n",
    "\n",
    "from scipy.interpolate import interp1d\n",
    "\n",
    "import seaborn as sb\n",
    "import random\n",
    "import os\n",
    "import plotly.express as px\n",
    "from backend.resampler import *\n",
    "from backend.mt5_tools import *\n",
    "\n",
    "from statsmodels.tsa.stattools import adfuller\n",
    "from analisys.graph_analisys import moving_avg\n",
    "\n",
    "from scipy.optimize import rosen, differential_evolution\n",
    "\n",
    "def sigmoid(x):\n",
    "    z = 1/(1 + np.exp(-2*x))\n",
    "    return z"
   ]
  },
  {
   "cell_type": "code",
   "execution_count": null,
   "metadata": {},
   "outputs": [],
   "source": []
  },
  {
   "cell_type": "code",
   "execution_count": 2,
   "metadata": {},
   "outputs": [],
   "source": [
    "start_data = '2019.02.21' #tem que colocar um dia antes no start_date\n",
    "end_data = '2019.02.28'   #tem que colocar um dia depois no end_date\n",
    "\n",
    "name_x = 'SANB11'\n",
    "name_y = 'B3SA3'\n",
    "\n",
    "timeframe = 5\n",
    "\n",
    "\n",
    "s_spread = 5\n",
    "l_spread = 0\n",
    "tp_short = 0 \n",
    "tp_long = 1\n",
    "tp_return = 1097\n",
    "stop_return = -253 \n",
    "stop_number = 50\n",
    "period = 108\n",
    "min_count = 293\n",
    "p_size = 1000\n",
    "\n",
    "hist_x = mt5_singlehistoricaldata(name_x,timeframe,start_data, end_data)\n",
    "hist_y = mt5_singlehistoricaldata(name_y,timeframe,start_data, end_data)\n"
   ]
  },
  {
   "cell_type": "code",
   "execution_count": 3,
   "metadata": {},
   "outputs": [],
   "source": [
    "result = runbkt(hist_x, hist_y, name_x, name_y, period, s_spread, l_spread, tp_short, tp_long, tp_return, stop_number, stop_return, min_count ,p_size)\n"
   ]
  },
  {
   "cell_type": "code",
   "execution_count": 4,
   "metadata": {},
   "outputs": [
    {
     "name": "stdout",
     "output_type": "stream",
     "text": [
      "-288.00000000000136\n"
     ]
    }
   ],
   "source": [
    "for i in result['positions_list']:\n",
    "    print(i['profit'])\n"
   ]
  },
  {
   "cell_type": "code",
   "execution_count": 5,
   "metadata": {},
   "outputs": [
    {
     "data": {
      "text/plain": [
       "{'d66c70c5,4eb46dc0': {'type': 'long_spread',\n",
       "  'x_type': 'sell',\n",
       "  'y_type': 'buy',\n",
       "  'y_ticket': '4eb46dc0',\n",
       "  'df_y':                         open      low     high    close  volume1  volume2  \\\n",
       "  date                                                                        \n",
       "  2019-02-12 10:10:00 10.36000 10.32000 10.36000 10.35000  0.00000  0.00000   \n",
       "  2019-02-12 10:15:00 10.35000 10.32000 10.35000 10.33000  0.00000  0.00000   \n",
       "  2019-02-12 10:20:00 10.32000 10.26000 10.33000 10.29000  0.00000  0.00000   \n",
       "  2019-02-12 10:25:00 10.30000 10.28000 10.30000 10.29000  0.00000  0.00000   \n",
       "  2019-02-12 10:30:00 10.30000 10.27000 10.30000 10.30000  0.00000  0.00000   \n",
       "  ...                      ...      ...      ...      ...      ...      ...   \n",
       "  2019-02-18 16:30:00  9.87000  9.87000  9.89000  9.88000  0.00000  0.00000   \n",
       "  2019-02-18 16:35:00  9.88000  9.86000  9.89000  9.86000  0.00000  0.00000   \n",
       "  2019-02-18 16:40:00  9.86000  9.86000  9.87000  9.86000  0.00000  0.00000   \n",
       "  2019-02-18 16:45:00  9.86000  9.86000  9.89000  9.86000  0.00000  0.00000   \n",
       "  2019-02-18 16:50:00  9.86000  9.86000  9.88000  9.86000  0.00000  0.00000   \n",
       "  \n",
       "                       tickvolume   realvolume  \n",
       "  date                                          \n",
       "  2019-02-12 10:10:00   181.00000 142200.00000  \n",
       "  2019-02-12 10:15:00   220.00000 114400.00000  \n",
       "  2019-02-12 10:20:00   432.00000 195000.00000  \n",
       "  2019-02-12 10:25:00   107.00000  33000.00000  \n",
       "  2019-02-12 10:30:00   367.00000 112700.00000  \n",
       "  ...                         ...          ...  \n",
       "  2019-02-18 16:30:00   188.00000  90800.00000  \n",
       "  2019-02-18 16:35:00   347.00000 224400.00000  \n",
       "  2019-02-18 16:40:00   261.00000  86500.00000  \n",
       "  2019-02-18 16:45:00   286.00000 122300.00000  \n",
       "  2019-02-18 16:50:00   318.00000 146100.00000  \n",
       "  \n",
       "  [405 rows x 8 columns],\n",
       "  'df_x':                         open      low     high    close  volume1  volume2  \\\n",
       "  date                                                                        \n",
       "  2019-02-12 10:10:00 11.39000 11.39000 11.39000 11.39000  0.00000  0.00000   \n",
       "  2019-02-12 10:15:00 11.40000 11.35000 11.42000 11.40000  0.00000  0.00000   \n",
       "  2019-02-12 10:20:00 11.40000 11.39000 11.40000 11.40000  0.00000  0.00000   \n",
       "  2019-02-12 10:25:00 11.40000 11.37000 11.40000 11.40000  0.00000  0.00000   \n",
       "  2019-02-12 10:30:00 11.40000 11.40000 11.41000 11.41000  0.00000  0.00000   \n",
       "  ...                      ...      ...      ...      ...      ...      ...   \n",
       "  2019-02-18 16:30:00 11.21000 11.19000 11.22000 11.19000  0.00000  0.00000   \n",
       "  2019-02-18 16:35:00 11.20000 11.17000 11.20000 11.18000  0.00000  0.00000   \n",
       "  2019-02-18 16:40:00 11.18000 11.18000 11.21000 11.21000  0.00000  0.00000   \n",
       "  2019-02-18 16:45:00 11.20000 11.20000 11.22000 11.21000  0.00000  0.00000   \n",
       "  2019-02-18 16:50:00 11.21000 11.20000 11.22000 11.21000  0.00000  0.00000   \n",
       "  \n",
       "                       tickvolume   realvolume  \n",
       "  date                                          \n",
       "  2019-02-12 10:10:00   169.00000 308500.00000  \n",
       "  2019-02-12 10:15:00   409.00000 415300.00000  \n",
       "  2019-02-12 10:20:00   201.00000 221000.00000  \n",
       "  2019-02-12 10:25:00   213.00000 199800.00000  \n",
       "  2019-02-12 10:30:00   169.00000 203300.00000  \n",
       "  ...                         ...          ...  \n",
       "  2019-02-18 16:30:00   226.00000 167700.00000  \n",
       "  2019-02-18 16:35:00   235.00000 139300.00000  \n",
       "  2019-02-18 16:40:00   180.00000 112200.00000  \n",
       "  2019-02-18 16:45:00   262.00000 146500.00000  \n",
       "  2019-02-18 16:50:00   232.00000 132600.00000  \n",
       "  \n",
       "  [405 rows x 8 columns],\n",
       "  'df_yprice': [10.31, 9.86],\n",
       "  'df_xprice': [11.36, 11.18],\n",
       "  'y_volume': 1000,\n",
       "  'x_ticket': 'd66c70c5',\n",
       "  'x_volume': 900.0,\n",
       "  'status': 'close',\n",
       "  'count': 293,\n",
       "  'profit': -288.00000000000136,\n",
       "  'x_profit': 161.99999999999974,\n",
       "  'y_profit': -450.0000000000011,\n",
       "  'df_iteration': [108, 401],\n",
       "  'df_date': [Timestamp('2019-02-13 12:25:00'),\n",
       "   Timestamp('2019-02-18 16:35:00')]}}"
      ]
     },
     "execution_count": 5,
     "metadata": {},
     "output_type": "execute_result"
    }
   ],
   "source": [
    "result['positions']"
   ]
  },
  {
   "cell_type": "code",
   "execution_count": 6,
   "metadata": {},
   "outputs": [
    {
     "data": {
      "text/plain": [
       "{'d66c70c5,4eb46dc0': {'type': 'long_spread',\n",
       "  'x_type': 'sell',\n",
       "  'y_type': 'buy',\n",
       "  'y_ticket': '4eb46dc0',\n",
       "  'df_y':                         open      low     high    close  volume1  volume2  \\\n",
       "  date                                                                        \n",
       "  2019-02-12 10:10:00 10.36000 10.32000 10.36000 10.35000  0.00000  0.00000   \n",
       "  2019-02-12 10:15:00 10.35000 10.32000 10.35000 10.33000  0.00000  0.00000   \n",
       "  2019-02-12 10:20:00 10.32000 10.26000 10.33000 10.29000  0.00000  0.00000   \n",
       "  2019-02-12 10:25:00 10.30000 10.28000 10.30000 10.29000  0.00000  0.00000   \n",
       "  2019-02-12 10:30:00 10.30000 10.27000 10.30000 10.30000  0.00000  0.00000   \n",
       "  ...                      ...      ...      ...      ...      ...      ...   \n",
       "  2019-02-18 16:30:00  9.87000  9.87000  9.89000  9.88000  0.00000  0.00000   \n",
       "  2019-02-18 16:35:00  9.88000  9.86000  9.89000  9.86000  0.00000  0.00000   \n",
       "  2019-02-18 16:40:00  9.86000  9.86000  9.87000  9.86000  0.00000  0.00000   \n",
       "  2019-02-18 16:45:00  9.86000  9.86000  9.89000  9.86000  0.00000  0.00000   \n",
       "  2019-02-18 16:50:00  9.86000  9.86000  9.88000  9.86000  0.00000  0.00000   \n",
       "  \n",
       "                       tickvolume   realvolume  \n",
       "  date                                          \n",
       "  2019-02-12 10:10:00   181.00000 142200.00000  \n",
       "  2019-02-12 10:15:00   220.00000 114400.00000  \n",
       "  2019-02-12 10:20:00   432.00000 195000.00000  \n",
       "  2019-02-12 10:25:00   107.00000  33000.00000  \n",
       "  2019-02-12 10:30:00   367.00000 112700.00000  \n",
       "  ...                         ...          ...  \n",
       "  2019-02-18 16:30:00   188.00000  90800.00000  \n",
       "  2019-02-18 16:35:00   347.00000 224400.00000  \n",
       "  2019-02-18 16:40:00   261.00000  86500.00000  \n",
       "  2019-02-18 16:45:00   286.00000 122300.00000  \n",
       "  2019-02-18 16:50:00   318.00000 146100.00000  \n",
       "  \n",
       "  [405 rows x 8 columns],\n",
       "  'df_x':                         open      low     high    close  volume1  volume2  \\\n",
       "  date                                                                        \n",
       "  2019-02-12 10:10:00 11.39000 11.39000 11.39000 11.39000  0.00000  0.00000   \n",
       "  2019-02-12 10:15:00 11.40000 11.35000 11.42000 11.40000  0.00000  0.00000   \n",
       "  2019-02-12 10:20:00 11.40000 11.39000 11.40000 11.40000  0.00000  0.00000   \n",
       "  2019-02-12 10:25:00 11.40000 11.37000 11.40000 11.40000  0.00000  0.00000   \n",
       "  2019-02-12 10:30:00 11.40000 11.40000 11.41000 11.41000  0.00000  0.00000   \n",
       "  ...                      ...      ...      ...      ...      ...      ...   \n",
       "  2019-02-18 16:30:00 11.21000 11.19000 11.22000 11.19000  0.00000  0.00000   \n",
       "  2019-02-18 16:35:00 11.20000 11.17000 11.20000 11.18000  0.00000  0.00000   \n",
       "  2019-02-18 16:40:00 11.18000 11.18000 11.21000 11.21000  0.00000  0.00000   \n",
       "  2019-02-18 16:45:00 11.20000 11.20000 11.22000 11.21000  0.00000  0.00000   \n",
       "  2019-02-18 16:50:00 11.21000 11.20000 11.22000 11.21000  0.00000  0.00000   \n",
       "  \n",
       "                       tickvolume   realvolume  \n",
       "  date                                          \n",
       "  2019-02-12 10:10:00   169.00000 308500.00000  \n",
       "  2019-02-12 10:15:00   409.00000 415300.00000  \n",
       "  2019-02-12 10:20:00   201.00000 221000.00000  \n",
       "  2019-02-12 10:25:00   213.00000 199800.00000  \n",
       "  2019-02-12 10:30:00   169.00000 203300.00000  \n",
       "  ...                         ...          ...  \n",
       "  2019-02-18 16:30:00   226.00000 167700.00000  \n",
       "  2019-02-18 16:35:00   235.00000 139300.00000  \n",
       "  2019-02-18 16:40:00   180.00000 112200.00000  \n",
       "  2019-02-18 16:45:00   262.00000 146500.00000  \n",
       "  2019-02-18 16:50:00   232.00000 132600.00000  \n",
       "  \n",
       "  [405 rows x 8 columns],\n",
       "  'df_yprice': [10.31, 9.86],\n",
       "  'df_xprice': [11.36, 11.18],\n",
       "  'y_volume': 1000,\n",
       "  'x_ticket': 'd66c70c5',\n",
       "  'x_volume': 900.0,\n",
       "  'status': 'close',\n",
       "  'count': 293,\n",
       "  'profit': -288.00000000000136,\n",
       "  'x_profit': 161.99999999999974,\n",
       "  'y_profit': -450.0000000000011,\n",
       "  'df_iteration': [108, 401],\n",
       "  'df_date': [Timestamp('2019-02-13 12:25:00'),\n",
       "   Timestamp('2019-02-18 16:35:00')]}}"
      ]
     },
     "execution_count": 6,
     "metadata": {},
     "output_type": "execute_result"
    }
   ],
   "source": [
    "result['positions']"
   ]
  },
  {
   "cell_type": "code",
   "execution_count": 7,
   "metadata": {},
   "outputs": [
    {
     "name": "stdout",
     "output_type": "stream",
     "text": [
      "long_spread [11.36, 11.18] [10.31, 9.86]\n"
     ]
    }
   ],
   "source": [
    "l = []\n",
    "\n",
    "for i in result['positions_list']:\n",
    "    print(i['type'], i['df_xprice'], i['df_yprice'])\n",
    "    \n",
    "\n",
    "\n"
   ]
  },
  {
   "cell_type": "code",
   "execution_count": 8,
   "metadata": {},
   "outputs": [
    {
     "data": {
      "image/png": "[encoded data removed]",
      "text/plain": [
       "<Figure size 432x288 with 3 Axes>"
      ]
     },
     "metadata": {
      "needs_background": "light"
     },
     "output_type": "display_data"
    }
   ],
   "source": [
    "fig, axs = plt.subplots(3, 1)\n",
    "\n",
    "axs[0].plot(result['spread'])\n",
    "axs[0].set_title('spread')\n",
    "axs[1].plot(result['price']['x_price'])\n",
    "axs[1].set_title('x_price')\n",
    "axs[2].plot(result['price']['y_price'])\n",
    "axs[2].set_title('y_price')\n",
    "fig.tight_layout()\n",
    "\n",
    "\n",
    "\n"
   ]
  },
  {
   "cell_type": "code",
   "execution_count": 9,
   "metadata": {},
   "outputs": [
    {
     "name": "stdout",
     "output_type": "stream",
     "text": [
      "['d66c70c5,4eb46dc0']\n"
     ]
    }
   ],
   "source": [
    "key = list(result['positions'].keys())\n",
    "print(key)\n",
    "\n"
   ]
  },
  {
   "cell_type": "code",
   "execution_count": 10,
   "metadata": {},
   "outputs": [
    {
     "name": "stdout",
     "output_type": "stream",
     "text": [
      "[{'type': 'long_spread', 'x_type': 'sell', 'y_type': 'buy', 'y_ticket': '4eb46dc0', 'df_y':                         open      low     high    close  volume1  volume2  \\\n",
      "date                                                                        \n",
      "2019-02-12 10:10:00 10.36000 10.32000 10.36000 10.35000  0.00000  0.00000   \n",
      "2019-02-12 10:15:00 10.35000 10.32000 10.35000 10.33000  0.00000  0.00000   \n",
      "2019-02-12 10:20:00 10.32000 10.26000 10.33000 10.29000  0.00000  0.00000   \n",
      "2019-02-12 10:25:00 10.30000 10.28000 10.30000 10.29000  0.00000  0.00000   \n",
      "2019-02-12 10:30:00 10.30000 10.27000 10.30000 10.30000  0.00000  0.00000   \n",
      "...                      ...      ...      ...      ...      ...      ...   \n",
      "2019-02-18 16:30:00  9.87000  9.87000  9.89000  9.88000  0.00000  0.00000   \n",
      "2019-02-18 16:35:00  9.88000  9.86000  9.89000  9.86000  0.00000  0.00000   \n",
      "2019-02-18 16:40:00  9.86000  9.86000  9.87000  9.86000  0.00000  0.00000   \n",
      "2019-02-18 16:45:00  9.86000  9.86000  9.89000  9.86000  0.00000  0.00000   \n",
      "2019-02-18 16:50:00  9.86000  9.86000  9.88000  9.86000  0.00000  0.00000   \n",
      "\n",
      "                     tickvolume   realvolume  \n",
      "date                                          \n",
      "2019-02-12 10:10:00   181.00000 142200.00000  \n",
      "2019-02-12 10:15:00   220.00000 114400.00000  \n",
      "2019-02-12 10:20:00   432.00000 195000.00000  \n",
      "2019-02-12 10:25:00   107.00000  33000.00000  \n",
      "2019-02-12 10:30:00   367.00000 112700.00000  \n",
      "...                         ...          ...  \n",
      "2019-02-18 16:30:00   188.00000  90800.00000  \n",
      "2019-02-18 16:35:00   347.00000 224400.00000  \n",
      "2019-02-18 16:40:00   261.00000  86500.00000  \n",
      "2019-02-18 16:45:00   286.00000 122300.00000  \n",
      "2019-02-18 16:50:00   318.00000 146100.00000  \n",
      "\n",
      "[405 rows x 8 columns], 'df_x':                         open      low     high    close  volume1  volume2  \\\n",
      "date                                                                        \n",
      "2019-02-12 10:10:00 11.39000 11.39000 11.39000 11.39000  0.00000  0.00000   \n",
      "2019-02-12 10:15:00 11.40000 11.35000 11.42000 11.40000  0.00000  0.00000   \n",
      "2019-02-12 10:20:00 11.40000 11.39000 11.40000 11.40000  0.00000  0.00000   \n",
      "2019-02-12 10:25:00 11.40000 11.37000 11.40000 11.40000  0.00000  0.00000   \n",
      "2019-02-12 10:30:00 11.40000 11.40000 11.41000 11.41000  0.00000  0.00000   \n",
      "...                      ...      ...      ...      ...      ...      ...   \n",
      "2019-02-18 16:30:00 11.21000 11.19000 11.22000 11.19000  0.00000  0.00000   \n",
      "2019-02-18 16:35:00 11.20000 11.17000 11.20000 11.18000  0.00000  0.00000   \n",
      "2019-02-18 16:40:00 11.18000 11.18000 11.21000 11.21000  0.00000  0.00000   \n",
      "2019-02-18 16:45:00 11.20000 11.20000 11.22000 11.21000  0.00000  0.00000   \n",
      "2019-02-18 16:50:00 11.21000 11.20000 11.22000 11.21000  0.00000  0.00000   \n",
      "\n",
      "                     tickvolume   realvolume  \n",
      "date                                          \n",
      "2019-02-12 10:10:00   169.00000 308500.00000  \n",
      "2019-02-12 10:15:00   409.00000 415300.00000  \n",
      "2019-02-12 10:20:00   201.00000 221000.00000  \n",
      "2019-02-12 10:25:00   213.00000 199800.00000  \n",
      "2019-02-12 10:30:00   169.00000 203300.00000  \n",
      "...                         ...          ...  \n",
      "2019-02-18 16:30:00   226.00000 167700.00000  \n",
      "2019-02-18 16:35:00   235.00000 139300.00000  \n",
      "2019-02-18 16:40:00   180.00000 112200.00000  \n",
      "2019-02-18 16:45:00   262.00000 146500.00000  \n",
      "2019-02-18 16:50:00   232.00000 132600.00000  \n",
      "\n",
      "[405 rows x 8 columns], 'df_yprice': [10.31, 9.86], 'df_xprice': [11.36, 11.18], 'y_volume': 1000, 'x_ticket': 'd66c70c5', 'x_volume': 900.0, 'status': 'close', 'count': 293, 'profit': -288.00000000000136, 'x_profit': 161.99999999999974, 'y_profit': -450.0000000000011, 'df_iteration': [108, 401], 'df_date': [Timestamp('2019-02-13 12:25:00'), Timestamp('2019-02-18 16:35:00')]}]\n"
     ]
    },
    {
     "data": {
      "text/plain": [
       "([108], [401])"
      ]
     },
     "execution_count": 10,
     "metadata": {},
     "output_type": "execute_result"
    }
   ],
   "source": [
    "#só para pegar os pontos de compra e venda#\n",
    "\n",
    "print(result['positions_list'])\n",
    "\n",
    "\n",
    "positions_markers_buy = []\n",
    "positions_markers_sell = []\n",
    "\n",
    "for mark in result['positions_list']:\n",
    "\n",
    "    if(mark['type'] == 'long_spread'):\n",
    "        positions_markers_buy.append(mark['df_iteration'][1])\n",
    "        positions_markers_sell.append(mark['df_iteration'][0])\n",
    "\n",
    "    if(mark['type'] == 'short_spread'):\n",
    "        positions_markers_buy.append(mark['df_iteration'][0])\n",
    "        positions_markers_sell.append(mark['df_iteration'][1])\n",
    "\n",
    "        \n",
    "        \n",
    "positions_markers_sell, positions_markers_buy\n",
    "\n"
   ]
  },
  {
   "cell_type": "code",
   "execution_count": 11,
   "metadata": {},
   "outputs": [
    {
     "name": "stdout",
     "output_type": "stream",
     "text": [
      "[10.35 10.33 10.29 10.29 10.3  10.22 10.25 10.3  10.27 10.29 10.33 10.3\n",
      " 10.31 10.3  10.27 10.28 10.21 10.22 10.24 10.26 10.24 10.22 10.2  10.18\n",
      " 10.15 10.14 10.11 10.13 10.18 10.21 10.21 10.21 10.2  10.18 10.19 10.19\n",
      " 10.17 10.17 10.17 10.2  10.2  10.21 10.21 10.2  10.22 10.24 10.26 10.26\n",
      " 10.26 10.32 10.27 10.27 10.26 10.26 10.23 10.21 10.23 10.27 10.25 10.24\n",
      " 10.25 10.25 10.24 10.24 10.27 10.27 10.29 10.3  10.32 10.33 10.31 10.31\n",
      " 10.31 10.29 10.29 10.28 10.29 10.3  10.28 10.28 10.28 10.28 10.25 10.28\n",
      " 10.25 10.26 10.28 10.3  10.3  10.28 10.29 10.31 10.3  10.29 10.28 10.28\n",
      " 10.26 10.21 10.22 10.24 10.24 10.25 10.28 10.28 10.26 10.28 10.26 10.27\n",
      " 10.31 10.32 10.31 10.38 10.39 10.4  10.4  10.4  10.4  10.43 10.42 10.4\n",
      " 10.39 10.41 10.41 10.35 10.37 10.31 10.3  10.32 10.28 10.27 10.26 10.26\n",
      " 10.27 10.27 10.27 10.26 10.27 10.28 10.28 10.26 10.27 10.28 10.3  10.29\n",
      " 10.31 10.32 10.31 10.31 10.3  10.29 10.29 10.28 10.26 10.27 10.27 10.28\n",
      " 10.26 10.26 10.26 10.28 10.27 10.22 10.19 10.2  10.15 10.17 10.18 10.13\n",
      " 10.18 10.18 10.17 10.16 10.13 10.07 10.08 10.06 10.1  10.1  10.11 10.09\n",
      " 10.09 10.09 10.05 10.01  9.99 10.01 10.05 10.08 10.07 10.08 10.08 10.04\n",
      " 10.09 10.08 10.1  10.1  10.1  10.1  10.13 10.14 10.14 10.17 10.19 10.18\n",
      " 10.21 10.23 10.21 10.23 10.23 10.25 10.25 10.29 10.25 10.26 10.27 10.24\n",
      " 10.24 10.24 10.25 10.23 10.27 10.3  10.28 10.29 10.27 10.27 10.29 10.24\n",
      " 10.24 10.21 10.21 10.2  10.24 10.23 10.26 10.27 10.27 10.27 10.26 10.25\n",
      " 10.26 10.26 10.24 10.3  10.3  10.29 10.32 10.33 10.42 10.37 10.33 10.33\n",
      " 10.3  10.29 10.3  10.28 10.24 10.24 10.23 10.23 10.23 10.18 10.16 10.17\n",
      " 10.18 10.17 10.15 10.17 10.18 10.21 10.22 10.19 10.16 10.16 10.15 10.15\n",
      " 10.13 10.11 10.13 10.12 10.12 10.12 10.14 10.15 10.12 10.15 10.17 10.14\n",
      " 10.14 10.16 10.14 10.11 10.13 10.18 10.15 10.15 10.12 10.1  10.09 10.05\n",
      " 10.06 10.08 10.1  10.1  10.11 10.1  10.1  10.11 10.13 10.12 10.12 10.12\n",
      " 10.11 10.09 10.1  10.09 10.08 10.1  10.1  10.1  10.1  10.1  10.1  10.11\n",
      " 10.05 10.07 10.01 10.04 10.04 10.03 10.03  9.99  9.99  9.98  9.98  9.99\n",
      " 10.    9.99  9.99  9.99  9.95  9.93  9.94  9.93  9.94  9.97  9.96  9.94\n",
      "  9.94  9.94  9.93  9.93  9.92  9.92  9.88  9.9   9.9   9.91  9.92  9.9\n",
      "  9.91  9.93  9.92  9.92  9.91  9.92  9.9   9.9   9.91  9.92  9.89  9.88\n",
      "  9.88  9.88  9.88  9.89  9.91  9.91  9.94  9.93  9.95  9.94  9.96  9.97\n",
      "  9.97  9.96  9.95  9.93  9.95  9.94  9.94  9.94  9.93  9.91  9.9   9.92\n",
      "  9.91  9.91  9.9   9.87  9.88  9.86  9.86  9.86  9.86]\n"
     ]
    },
    {
     "data": {
      "image/png": "[encoded data removed]",
      "text/plain": [
       "<Figure size 432x288 with 2 Axes>"
      ]
     },
     "metadata": {
      "needs_background": "light"
     },
     "output_type": "display_data"
    }
   ],
   "source": [
    "\n",
    "\n",
    "hist_x_open = np.array(hist_x['open'])\n",
    "hist_x_close = np.array(hist_x['close'])\n",
    "hist_y_open = np.array(hist_y['open'])\n",
    "hist_y_close = np.array(hist_y['close'])\n",
    "\n",
    "print(hist_y_close)\n",
    "\n",
    "for idx in np.where(hist_x_close == 0):\n",
    "    try:\n",
    "        hist_x_close[idx] = (hist_x_close[idx-1] + hist_x_close[idx+1])/2\n",
    "    except:\n",
    "        print('fail')\n",
    "\n",
    "xs_axis = range(len(hist_x_open))\n",
    "\n",
    "#short_spread => X_BUY, Y_SELL\n",
    "#long_spread  => X_SELL, Y_BUY\n",
    "\n",
    "fig, axs = plt.subplots(1, 2)\n",
    "\n",
    "result['positions_list']\n",
    "\n",
    "#grarficos\n",
    "\n",
    "for mark in result['positions_list']:\n",
    "    \n",
    "    if(mark['type'] == 'long_spread'):\n",
    "        \n",
    "        axs[0].plot(hist_x_close, color = 'gray', linestyle='--',  linewidth=1 ,marker='^', markersize=16, markerfacecolor='green', markevery=positions_markers_buy)\n",
    "        axs[0].plot(hist_x_close, color = 'gray', linestyle='--',linewidth=1 , marker='v', markersize=16, markerfacecolor='red', markevery=positions_markers_sell)\n",
    "        axs[0].set_xlabel('{}-{} {}'.format(result['info']['x_symbol'],result['positions_list'][result['positions_list'].index(mark)]['x_type'], result['positions_list'][result['positions_list'].index(mark)]['x_volume']))\n",
    "\n",
    "        axs[1].plot(hist_y_close, color = 'gray', linestyle='--', linewidth=1 ,marker='^', markersize=16, markerfacecolor='green', markevery=positions_markers_buy)\n",
    "        axs[1].plot(hist_y_close, color = 'gray', linestyle='--', linewidth=1 ,marker='v', markersize=16, markerfacecolor='red', markevery=positions_markers_sell)\n",
    "        axs[1].set_xlabel('{}-{} {}'.format(result['info']['y_symbol'],result['positions_list'][result['positions_list'].index(mark)]['y_type'], result['positions_list'][result['positions_list'].index(mark)]['y_volume']))\n",
    "    \n",
    "\n",
    "    if(mark['type'] == 'short_spread'):\n",
    "\n",
    "        axs[0].plot(hist_y_close, color = 'gray',linestyle='--',linewidth=1 , marker='^', markersize=16, markerfacecolor='green', markevery=positions_markers_buy)\n",
    "        axs[0].plot(hist_y_close, color = 'gray', marker='v',linestyle='--',linewidth=1 , markersize=16, markerfacecolor='red', markevery=positions_markers_sell)\n",
    "        axs[0].set_xlabel('{}-{} {}'.format(result['info']['y_symbol'],result['positions_list'][result['positions_list'].index(mark)]['y_type'], result['positions_list'][result['positions_list'].index(mark)]['y_volume']))\n",
    "        \n",
    "        axs[1].plot(hist_x_close, color = 'gray', marker='^',linestyle='--',linewidth=1 , markersize=16, markerfacecolor='green', markevery=positions_markers_buy)\n",
    "        axs[1].plot(hist_x_close, color = 'gray', marker='v',linestyle='--',linewidth=1 , markersize=16, markerfacecolor='red', markevery=positions_markers_sell)\n",
    "        axs[1].set_xlabel('{}-{} {}'.format(result['info']['x_symbol'],result['positions_list'][result['positions_list'].index(mark)]['x_type'], result['positions_list'][result['positions_list'].index(mark)]['x_volume']))\n",
    "\n",
    "\n",
    "\n",
    "\n",
    "\n"
   ]
  },
  {
   "cell_type": "code",
   "execution_count": 12,
   "metadata": {
    "scrolled": true
   },
   "outputs": [
    {
     "name": "stdout",
     "output_type": "stream",
     "text": [
      "294\n",
      "-288.0\n"
     ]
    },
    {
     "data": {
      "image/png": "[encoded data removed]",
      "text/plain": [
       "<Figure size 432x288 with 1 Axes>"
      ]
     },
     "metadata": {
      "needs_background": "light"
     },
     "output_type": "display_data"
    }
   ],
   "source": [
    "#auxilia a tratar alguns dados\n",
    "\n",
    "df_iteration = result['positions_list'][0]['df_iteration']\n",
    "\n",
    "x_lprofit = []\n",
    "y_lprofit = []\n",
    "np_hist_x = np.array(hist_x_close)[df_iteration[0]:df_iteration[1]+1]\n",
    "np_hist_y = np.array(hist_y_close)[df_iteration[0]:df_iteration[1]+1]\n",
    "\n",
    "x_volume = result['positions_list'][0]['x_volume']\n",
    "y_volume = result['positions_list'][0]['y_volume']\n",
    "\n",
    "\n",
    "for i in range(len(np_hist_x)):\n",
    "    x_lprofit.append(x_volume*np_hist_x[i])\n",
    "    y_lprofit.append(y_volume*np_hist_y[i])\n",
    "\n",
    "x_profit = 0\n",
    "y_profit = 0\n",
    "\n",
    "for r in range(len(result['positions_list'])):\n",
    "    if(result['positions_list'][r]['type'] == 'short_spread'):\n",
    "        x_profit += np.array(x_lprofit) - x_lprofit[0]\n",
    "        y_profit += -np.array(y_lprofit) + y_lprofit[0]\n",
    "\n",
    "\n",
    "    if(result['positions_list'][r]['type'] == 'long_spread'):\n",
    "        x_profit += -np.array(x_lprofit) + x_lprofit[0]\n",
    "        y_profit += np.array(y_lprofit) - y_lprofit[0]\n",
    "\n",
    "\n",
    "s_profit = x_profit + y_profit\n",
    "\n",
    "print(len(x_profit))\n",
    "\n",
    "fig, axs = plt.subplots(1, 1)\n",
    "\n",
    "\n",
    "\n",
    "axs.plot(x_profit, label='x_profit', linestyle='--', linewidth=0.7, color='blue')\n",
    "axs.plot(y_profit, label='y_profit', linestyle='--', linewidth=0.7, color='red')\n",
    "axs.plot(s_profit,label='sum_profit', linewidth=2, color = 'green')\n",
    "axs.legend(loc='upper left')\n",
    "axs.set_title('R${}'.format(result['profit']))\n",
    "\n",
    "print(s_profit[-1])\n"
   ]
  },
  {
   "cell_type": "code",
   "execution_count": null,
   "metadata": {
    "scrolled": false
   },
   "outputs": [],
   "source": []
  },
  {
   "cell_type": "code",
   "execution_count": 13,
   "metadata": {
    "scrolled": true
   },
   "outputs": [
    {
     "data": {
      "text/plain": [
       "{'type': 'long_spread',\n",
       " 'x_type': 'sell',\n",
       " 'y_type': 'buy',\n",
       " 'y_ticket': '4eb46dc0',\n",
       " 'df_y':                         open      low     high    close  volume1  volume2  \\\n",
       " date                                                                        \n",
       " 2019-02-12 10:10:00 10.36000 10.32000 10.36000 10.35000  0.00000  0.00000   \n",
       " 2019-02-12 10:15:00 10.35000 10.32000 10.35000 10.33000  0.00000  0.00000   \n",
       " 2019-02-12 10:20:00 10.32000 10.26000 10.33000 10.29000  0.00000  0.00000   \n",
       " 2019-02-12 10:25:00 10.30000 10.28000 10.30000 10.29000  0.00000  0.00000   \n",
       " 2019-02-12 10:30:00 10.30000 10.27000 10.30000 10.30000  0.00000  0.00000   \n",
       " ...                      ...      ...      ...      ...      ...      ...   \n",
       " 2019-02-18 16:30:00  9.87000  9.87000  9.89000  9.88000  0.00000  0.00000   \n",
       " 2019-02-18 16:35:00  9.88000  9.86000  9.89000  9.86000  0.00000  0.00000   \n",
       " 2019-02-18 16:40:00  9.86000  9.86000  9.87000  9.86000  0.00000  0.00000   \n",
       " 2019-02-18 16:45:00  9.86000  9.86000  9.89000  9.86000  0.00000  0.00000   \n",
       " 2019-02-18 16:50:00  9.86000  9.86000  9.88000  9.86000  0.00000  0.00000   \n",
       " \n",
       "                      tickvolume   realvolume  \n",
       " date                                          \n",
       " 2019-02-12 10:10:00   181.00000 142200.00000  \n",
       " 2019-02-12 10:15:00   220.00000 114400.00000  \n",
       " 2019-02-12 10:20:00   432.00000 195000.00000  \n",
       " 2019-02-12 10:25:00   107.00000  33000.00000  \n",
       " 2019-02-12 10:30:00   367.00000 112700.00000  \n",
       " ...                         ...          ...  \n",
       " 2019-02-18 16:30:00   188.00000  90800.00000  \n",
       " 2019-02-18 16:35:00   347.00000 224400.00000  \n",
       " 2019-02-18 16:40:00   261.00000  86500.00000  \n",
       " 2019-02-18 16:45:00   286.00000 122300.00000  \n",
       " 2019-02-18 16:50:00   318.00000 146100.00000  \n",
       " \n",
       " [405 rows x 8 columns],\n",
       " 'df_x':                         open      low     high    close  volume1  volume2  \\\n",
       " date                                                                        \n",
       " 2019-02-12 10:10:00 11.39000 11.39000 11.39000 11.39000  0.00000  0.00000   \n",
       " 2019-02-12 10:15:00 11.40000 11.35000 11.42000 11.40000  0.00000  0.00000   \n",
       " 2019-02-12 10:20:00 11.40000 11.39000 11.40000 11.40000  0.00000  0.00000   \n",
       " 2019-02-12 10:25:00 11.40000 11.37000 11.40000 11.40000  0.00000  0.00000   \n",
       " 2019-02-12 10:30:00 11.40000 11.40000 11.41000 11.41000  0.00000  0.00000   \n",
       " ...                      ...      ...      ...      ...      ...      ...   \n",
       " 2019-02-18 16:30:00 11.21000 11.19000 11.22000 11.19000  0.00000  0.00000   \n",
       " 2019-02-18 16:35:00 11.20000 11.17000 11.20000 11.18000  0.00000  0.00000   \n",
       " 2019-02-18 16:40:00 11.18000 11.18000 11.21000 11.21000  0.00000  0.00000   \n",
       " 2019-02-18 16:45:00 11.20000 11.20000 11.22000 11.21000  0.00000  0.00000   \n",
       " 2019-02-18 16:50:00 11.21000 11.20000 11.22000 11.21000  0.00000  0.00000   \n",
       " \n",
       "                      tickvolume   realvolume  \n",
       " date                                          \n",
       " 2019-02-12 10:10:00   169.00000 308500.00000  \n",
       " 2019-02-12 10:15:00   409.00000 415300.00000  \n",
       " 2019-02-12 10:20:00   201.00000 221000.00000  \n",
       " 2019-02-12 10:25:00   213.00000 199800.00000  \n",
       " 2019-02-12 10:30:00   169.00000 203300.00000  \n",
       " ...                         ...          ...  \n",
       " 2019-02-18 16:30:00   226.00000 167700.00000  \n",
       " 2019-02-18 16:35:00   235.00000 139300.00000  \n",
       " 2019-02-18 16:40:00   180.00000 112200.00000  \n",
       " 2019-02-18 16:45:00   262.00000 146500.00000  \n",
       " 2019-02-18 16:50:00   232.00000 132600.00000  \n",
       " \n",
       " [405 rows x 8 columns],\n",
       " 'df_yprice': [10.31, 9.86],\n",
       " 'df_xprice': [11.36, 11.18],\n",
       " 'y_volume': 1000,\n",
       " 'x_ticket': 'd66c70c5',\n",
       " 'x_volume': 900.0,\n",
       " 'status': 'close',\n",
       " 'count': 293,\n",
       " 'profit': -288.00000000000136,\n",
       " 'x_profit': 161.99999999999974,\n",
       " 'y_profit': -450.0000000000011,\n",
       " 'df_iteration': [108, 401],\n",
       " 'df_date': [Timestamp('2019-02-13 12:25:00'),\n",
       "  Timestamp('2019-02-18 16:35:00')]}"
      ]
     },
     "execution_count": 13,
     "metadata": {},
     "output_type": "execute_result"
    }
   ],
   "source": [
    "result['positions_list'][0]"
   ]
  },
  {
   "cell_type": "code",
   "execution_count": 14,
   "metadata": {},
   "outputs": [
    {
     "data": {
      "text/plain": [
       "\"\\n#algoritimo de take profit\\n\\nnet_profit = x_profit + y_profit\\nratio_profit = x_profit/y_profit\\nratio_profit[np.isnan(ratio_profit)] = 0\\nratio_profit[np.isneginf(ratio_profit)] = 0\\nratio_profit[np.isinf(ratio_profit)] = 0\\n\\ndiff_ratio_profit = np.diff(ratio_profit)\\ndiff_ratio_profit = sigmoid(np.absolute(diff_ratio_profit))\\n\\nzscore_ratio = (zscore(diff_ratio_profit))\\ntreshold = (np.std(zscore_ratio[:df_iteration[0]]))\\nprint(treshold, np.std(zscore_ratio))\\n\\n\\narr = (max(diff_ratio_profit[:df_iteration[0]]) - np.std(diff_ratio_profit[:df_iteration[0]])) < (diff_ratio_profit[df_iteration[0]:])\\ntake_out = np.where(arr)[0]\\n\\narr_old = (max(diff_ratio_profit[:df_iteration[0]]) - np.std(diff_ratio_profit[:df_iteration[0]])) < (diff_ratio_profit[:df_iteration[0]])\\ntake_out_old = np.where(arr_old)[0]\\n\\nprint(take_out)\\n\\n\\n#take_out=[]\\nfig, axs = plt.subplots(4, 1)\\nplt.tight_layout()\\n\\naxs[0].set_title('lucro')\\naxs[1].set_title('old_lucro')\\naxs[2].set_title('indicador de saida')\\naxs[3].set_title('old_is')\\n\\n\\naxs[0].plot(net_profit[df_iteration[0]:])\\naxs[1].plot(net_profit[:df_iteration[0]], color = 'green')\\n\\naxs[2].plot((diff_ratio_profit[df_iteration[0]:]), marker='*', markersize=12, markerfacecolor='red', markevery=take_out)\\n#axs[3].plot(diff_ratio_profit[:df_iteration[0]], color= 'red', marker='*', markersize=12, markerfacecolor='blue', markevery=take_out_old)\\n\\n\\n\\n#acho que o melhor é pegar o primeiro e usar ele\\n\""
      ]
     },
     "execution_count": 14,
     "metadata": {},
     "output_type": "execute_result"
    }
   ],
   "source": [
    "'''\n",
    "#algoritimo de take profit\n",
    "\n",
    "net_profit = x_profit + y_profit\n",
    "ratio_profit = x_profit/y_profit\n",
    "ratio_profit[np.isnan(ratio_profit)] = 0\n",
    "ratio_profit[np.isneginf(ratio_profit)] = 0\n",
    "ratio_profit[np.isinf(ratio_profit)] = 0\n",
    "\n",
    "diff_ratio_profit = np.diff(ratio_profit)\n",
    "diff_ratio_profit = sigmoid(np.absolute(diff_ratio_profit))\n",
    "\n",
    "zscore_ratio = (zscore(diff_ratio_profit))\n",
    "treshold = (np.std(zscore_ratio[:df_iteration[0]]))\n",
    "print(treshold, np.std(zscore_ratio))\n",
    "\n",
    "\n",
    "arr = (max(diff_ratio_profit[:df_iteration[0]]) - np.std(diff_ratio_profit[:df_iteration[0]])) < (diff_ratio_profit[df_iteration[0]:])\n",
    "take_out = np.where(arr)[0]\n",
    "\n",
    "arr_old = (max(diff_ratio_profit[:df_iteration[0]]) - np.std(diff_ratio_profit[:df_iteration[0]])) < (diff_ratio_profit[:df_iteration[0]])\n",
    "take_out_old = np.where(arr_old)[0]\n",
    "\n",
    "print(take_out)\n",
    "\n",
    "\n",
    "#take_out=[]\n",
    "fig, axs = plt.subplots(4, 1)\n",
    "plt.tight_layout()\n",
    "\n",
    "axs[0].set_title('lucro')\n",
    "axs[1].set_title('old_lucro')\n",
    "axs[2].set_title('indicador de saida')\n",
    "axs[3].set_title('old_is')\n",
    "\n",
    "\n",
    "axs[0].plot(net_profit[df_iteration[0]:])\n",
    "axs[1].plot(net_profit[:df_iteration[0]], color = 'green')\n",
    "\n",
    "axs[2].plot((diff_ratio_profit[df_iteration[0]:]), marker='*', markersize=12, markerfacecolor='red', markevery=take_out)\n",
    "#axs[3].plot(diff_ratio_profit[:df_iteration[0]], color= 'red', marker='*', markersize=12, markerfacecolor='blue', markevery=take_out_old)\n",
    "\n",
    "\n",
    "\n",
    "#acho que o melhor é pegar o primeiro e usar ele\n",
    "'''"
   ]
  }
 ],
 "metadata": {
  "interpreter": {
   "hash": "ddca0790838dc53580143d8ae604fed6d6db5baa684a2f48e0dde4d73bc87b89"
  },
  "kernelspec": {
   "display_name": "Python 3",
   "language": "python",
   "name": "python3"
  },
  "language_info": {
   "codemirror_mode": {
    "name": "ipython",
    "version": 3
   },
   "file_extension": ".py",
   "mimetype": "text/x-python",
   "name": "python",
   "nbconvert_exporter": "python",
   "pygments_lexer": "ipython3",
   "version": "3.7.6"
  }
 },
 "nbformat": 4,
 "nbformat_minor": 2
}
