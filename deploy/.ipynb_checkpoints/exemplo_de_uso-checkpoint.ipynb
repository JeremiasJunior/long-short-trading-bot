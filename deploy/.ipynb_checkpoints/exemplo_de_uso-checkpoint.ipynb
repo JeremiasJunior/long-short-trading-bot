{
 "cells": [
  {
   "cell_type": "code",
   "execution_count": 1,
   "metadata": {},
   "outputs": [
    {
     "name": "stdout",
     "output_type": "stream",
     "text": [
      "{\n",
      "  \"shell_port\": 20285,\n",
      "  \"iopub_port\": 20286,\n",
      "  \"stdin_port\": 20287,\n",
      "  \"control_port\": 20289,\n",
      "  \"hb_port\": 20288,\n",
      "  \"ip\": \"127.0.0.1\",\n",
      "  \"key\": \"88c01292-a26763175e510049028c85e7\",\n",
      "  \"transport\": \"tcp\",\n",
      "  \"signature_scheme\": \"hmac-sha256\",\n",
      "  \"kernel_name\": \"\"\n",
      "}\n",
      "\n",
      "Paste the above JSON into a file, and connect with:\n",
      "    $> jupyter <app> --existing <file>\n",
      "or, if you are local, you can connect with just:\n",
      "    $> jupyter <app> --existing kernel-e97d4097-3030-4c8d-aaec-ab29a2a7ccf1.json\n",
      "or even just:\n",
      "    $> jupyter <app> --existing\n",
      "if this is the most recent Jupyter kernel you have started.\n"
     ]
    }
   ],
   "source": [
    "connect = %connect_info\n",
    "import init\n",
    "from analisys.bkt_analisys import *\n",
    "from analisys.data_analisys import *\n",
    "from analisys.graph_analisys import *\n",
    "from analisys.optmizer_analisys import *"
   ]
  },
  {
   "cell_type": "code",
   "execution_count": 2,
   "metadata": {},
   "outputs": [],
   "source": [
    "#pega os dados e verifica cointegração\n",
    "\n",
    "\n",
    "\n",
    "hist = mt5_historicaldata(5, '2019.01.18', '2019.01.25')\n"
   ]
  },
  {
   "cell_type": "code",
   "execution_count": 3,
   "metadata": {},
   "outputs": [],
   "source": [
    "result = runbkt(hist['MULT3'], hist['BPAC11'], 'MULT3', 'BPAC11', 59, 3, -4, -1, 0, 5000, 38, -25, 300)"
   ]
  },
  {
   "cell_type": "code",
   "execution_count": 5,
   "metadata": {},
   "outputs": [
    {
     "data": {
      "text/plain": [
       "dict_keys(['price', 'spread', 'profit', 'cumprofit', 'info', 'returns', 'stop_count', 'positions', 'indicators', 'max_profit', 'rawlog', 'expo', 'loop', 'avg_expo', 'stdv_expo', 'amount_positions', 'ppp', 'var90', 'var95', 'var99', 'sucess_ratio', 'average_profit_loss', 'std', 'profit_per_position', 'roi'])"
      ]
     },
     "execution_count": 5,
     "metadata": {},
     "output_type": "execute_result"
    }
   ],
   "source": [
    "result.keys()"
   ]
  },
  {
   "cell_type": "raw",
   "metadata": {},
   "source": []
  },
  {
   "cell_type": "code",
   "execution_count": null,
   "metadata": {},
   "outputs": [],
   "source": [
    "T_i = datetime.datetime.now()\n",
    "result_opttrain = forestbkt(name_x, name_y, hist, hist_test)\n"
   ]
  },
  {
   "cell_type": "code",
   "execution_count": null,
   "metadata": {},
   "outputs": [],
   "source": [
    "treino = result_opttrain['treino']['indicators']['profit_s']\n",
    "                                                                                                                                                                                                                                                                                                                                                                                                                                                                                                                                                                                                                                                                                                                                                                                                                                                                                                                                                                                                                                                                                                                                                                                                                                                                                                                                                                                                                                                                                                                                                                                                                                                                test = result_opttrain['test']['indicators']['profit_s']\n",
    "parametros = result_opttrain['parametros']\n",
    "\n",
    "fig, (ax1, ax2) = plt.subplots(1,2)\n",
    "ax1.plot(treino)\n",
    "ax2.plot(test)\n",
    "\n",
    "import numpy as np\n",
    "\n",
    "print('Parametros : ', parametros)"
   ]
  },
  {
   "cell_type": "code",
   "execution_count": null,
   "metadata": {},
   "outputs": [],
   "source": [
    "fig, ax = plt.subplots(1,1)\n",
    "ax.plot(residuals)"
   ]
  }
 ],
 "metadata": {
  "kernelspec": {
   "display_name": "Python 3",
   "language": "python",
   "name": "python3"
  },
  "language_info": {
   "codemirror_mode": {
    "name": "ipython",
    "version": 3
   },
   "file_extension": ".py",
   "mimetype": "text/x-python",
   "name": "python",
   "nbconvert_exporter": "python",
   "pygments_lexer": "ipython3",
   "version": "3.8.3"
  }
 },
 "nbformat": 4,
 "nbformat_minor": 4
}
