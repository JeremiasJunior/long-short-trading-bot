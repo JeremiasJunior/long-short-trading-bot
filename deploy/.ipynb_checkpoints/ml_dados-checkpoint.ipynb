{
 "cells": [
  {
   "cell_type": "code",
   "execution_count": 475,
   "metadata": {},
   "outputs": [
    {
     "name": "stdout",
     "output_type": "stream",
     "text": [
      "{\n",
      "  \"shell_port\": 38589,\n",
      "  \"iopub_port\": 44201,\n",
      "  \"stdin_port\": 33155,\n",
      "  \"control_port\": 58267,\n",
      "  \"hb_port\": 42657,\n",
      "  \"ip\": \"25.67.138.49\",\n",
      "  \"key\": \"26b2a1ee-51dc1b31f6258ea41891cb02\",\n",
      "  \"transport\": \"tcp\",\n",
      "  \"signature_scheme\": \"hmac-sha256\",\n",
      "  \"kernel_name\": \"\"\n",
      "}\n",
      "\n",
      "Paste the above JSON into a file, and connect with:\n",
      "    $> jupyter <app> --existing <file>\n",
      "or, if you are local, you can connect with just:\n",
      "    $> jupyter <app> --existing kernel-f08628a4-8408-41ac-b58a-7efcb4df18b0.json\n",
      "or even just:\n",
      "    $> jupyter <app> --existing\n",
      "if this is the most recent Jupyter kernel you have started.\n"
     ]
    }
   ],
   "source": [
    "%connect_info\n",
    "\n",
    "\n",
    "import init\n",
    "import pandas as pd\n",
    "import matplotlib.pyplot as plt\n",
    "import json\n",
    "import numpy as np\n",
    "from statsmodels.tsa.stattools import coint\n",
    "\n",
    "import seaborn as sb"
   ]
  },
  {
   "cell_type": "code",
   "execution_count": 500,
   "metadata": {},
   "outputs": [
    {
     "name": "stdout",
     "output_type": "stream",
     "text": [
      "RoI : 0.021846799909448437\n",
      "Profit : 1496.00000000001\n",
      "Expo : 68476.84815170623\n",
      "avg_RoI : 0.07708687595885955\n"
     ]
    }
   ],
   "source": [
    "data_raw = pd.read_csv('optmizer_data.csv')\n",
    "df = data_raw.dropna()\n",
    "\n",
    "net_profit = sum(df['profit'])\n",
    "net_expo = sum(df['expo'])\n",
    "RoI = net_profit/net_expo\n",
    "avg_RoI = sum(df['RoI'])/len(df['RoI'])\n",
    "\n",
    "\n",
    "print('RoI : {}\\nProfit : {}\\nExpo : {}\\navg_RoI : {}'.format(RoI, net_profit, net_expo, avg_RoI))"
   ]
  },
  {
   "cell_type": "code",
   "execution_count": null,
   "metadata": {},
   "outputs": [],
   "source": [
    "print"
   ]
  }
 ],
 "metadata": {
  "kernelspec": {
   "display_name": "Python 3",
   "language": "python",
   "name": "python3"
  },
  "language_info": {
   "codemirror_mode": {
    "name": "ipython",
    "version": 3
   },
   "file_extension": ".py",
   "mimetype": "text/x-python",
   "name": "python",
   "nbconvert_exporter": "python",
   "pygments_lexer": "ipython3",
   "version": "3.8.5"
  }
 },
 "nbformat": 4,
 "nbformat_minor": 4
}
